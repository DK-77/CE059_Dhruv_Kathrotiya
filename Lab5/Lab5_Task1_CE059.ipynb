{
  "nbformat": 4,
  "nbformat_minor": 0,
  "metadata": {
    "colab": {
      "name": "Lab5_Task1_CE059.ipynb",
      "provenance": [],
      "include_colab_link": true
    },
    "kernelspec": {
      "name": "python3",
      "display_name": "Python 3"
    },
    "language_info": {
      "name": "python"
    }
  },
  "cells": [
    {
      "cell_type": "markdown",
      "metadata": {
        "id": "view-in-github",
        "colab_type": "text"
      },
      "source": [
        "<a href=\"https://colab.research.google.com/github/DK-77/CE059_Dhruv_Kathrotiya/blob/main/Lab5/Lab5_Task1_CE059.ipynb\" target=\"_parent\"><img src=\"https://colab.research.google.com/assets/colab-badge.svg\" alt=\"Open In Colab\"/></a>"
      ]
    },
    {
      "cell_type": "code",
      "metadata": {
        "colab": {
          "base_uri": "https://localhost:8080/"
        },
        "id": "X8qjf0lkEvJQ",
        "outputId": "52161743-5336-46ce-b2f3-d43ebd119b0f"
      },
      "source": [
        "from google.colab import drive\n",
        "drive.mount(\"/content/drive\")"
      ],
      "execution_count": 1,
      "outputs": [
        {
          "output_type": "stream",
          "name": "stdout",
          "text": [
            "Mounted at /content/drive\n"
          ]
        }
      ]
    },
    {
      "cell_type": "code",
      "metadata": {
        "id": "3hb9Xt-GEx5P"
      },
      "source": [
        "import numpy as np"
      ],
      "execution_count": 2,
      "outputs": []
    },
    {
      "cell_type": "code",
      "metadata": {
        "id": "dAVzTEutVkmi"
      },
      "source": [
        "# Input (temp, rainfall, humidity)\n",
        "inputs = np.array([[73, 67, 43], [91, 88, 64], [87, 134, 58], [102, 43, 37], [69, 96, 70], [73, 67, 43], [91, 88, 64], [87, 134, 58], [102, 43, 37], [69, 96, 70], [73, 67, 43], [91, 88, 64], [87, 134, 58], [102, 43, 37], [69, 96, 70]], dtype='float32')\n",
        "# Targets (apples)\n",
        "# only for apples\n",
        "targets = np.array([[56], [81], [119], [22], [103], \n",
        "                    [56], [81], [119], [22], [103], \n",
        "                    [56], [81], [119], [22], [103]], dtype='float32')"
      ],
      "execution_count": 3,
      "outputs": []
    },
    {
      "cell_type": "code",
      "metadata": {
        "colab": {
          "base_uri": "https://localhost:8080/"
        },
        "id": "tBGDucS2Vmbn",
        "outputId": "fa33fcfb-2129-4376-f511-29dbac4274e5"
      },
      "source": [
        "m = np.mean(inputs,0)\n",
        "print(\"mean :- \",m)\n",
        "std_dev = np.std(inputs, 0)\n",
        "print(\"\\n\\nstandard deviation :- \",std_dev)\n",
        "#normalizing the input\n",
        "x = (inputs-m) / std_dev\n",
        "x = np.hstack((np.ones((targets.size,1)),x))\n",
        "print(\"\\n\\nx \",x)\n"
      ],
      "execution_count": 14,
      "outputs": [
        {
          "output_type": "stream",
          "name": "stdout",
          "text": [
            "mean :-  [84.4 85.6 54.4]\n",
            "\n",
            "\n",
            "standard deviation :-  [12.059851 30.388155 12.499599]\n",
            "\n",
            "\n",
            "x  [[ 1.         -0.94528544 -0.61208057 -0.91202933]\n",
            " [ 1.          0.54727036  0.07897819  0.7680245 ]\n",
            " [ 1.          0.21559127  1.59272587  0.28800911]\n",
            " [ 1.          1.45938778 -1.40186191 -1.39204478]\n",
            " [ 1.         -1.27696455  0.34223866  1.24803984]\n",
            " [ 1.         -0.94528544 -0.61208057 -0.91202933]\n",
            " [ 1.          0.54727036  0.07897819  0.7680245 ]\n",
            " [ 1.          0.21559127  1.59272587  0.28800911]\n",
            " [ 1.          1.45938778 -1.40186191 -1.39204478]\n",
            " [ 1.         -1.27696455  0.34223866  1.24803984]\n",
            " [ 1.         -0.94528544 -0.61208057 -0.91202933]\n",
            " [ 1.          0.54727036  0.07897819  0.7680245 ]\n",
            " [ 1.          0.21559127  1.59272587  0.28800911]\n",
            " [ 1.          1.45938778 -1.40186191 -1.39204478]\n",
            " [ 1.         -1.27696455  0.34223866  1.24803984]]\n"
          ]
        }
      ]
    },
    {
      "cell_type": "markdown",
      "metadata": {
        "id": "pFZ4HhHIXzly"
      },
      "source": [
        "Linear Regression Model (from scratch)\n",
        "\n",
        "The weights and biases can also be represented as matrices, initialized with random values. The first row of w and the first element of b are use to predict the first target variable i.e. yield for apples, and similarly the second for oranges."
      ]
    },
    {
      "cell_type": "code",
      "metadata": {
        "colab": {
          "base_uri": "https://localhost:8080/"
        },
        "id": "z-i6eF15VqPv",
        "outputId": "3670e1cc-55f5-416c-843e-f7ea1a332528"
      },
      "source": [
        "# Weights and biases\n",
        "rg = np.random.default_rng(59)\n",
        "w = rg.random((1, 4))\n",
        "b = rg.random()\n",
        "base = []\n",
        "for i in range(15):\n",
        "  base.append([b])\n",
        "print(w)\n",
        "print(base)"
      ],
      "execution_count": 50,
      "outputs": [
        {
          "output_type": "stream",
          "name": "stdout",
          "text": [
            "[[0.58774716 0.82606617 0.11694378 0.37742961]]\n",
            "[[0.18626235014329373], [0.18626235014329373], [0.18626235014329373], [0.18626235014329373], [0.18626235014329373], [0.18626235014329373], [0.18626235014329373], [0.18626235014329373], [0.18626235014329373], [0.18626235014329373], [0.18626235014329373], [0.18626235014329373], [0.18626235014329373], [0.18626235014329373], [0.18626235014329373]]\n"
          ]
        }
      ]
    },
    {
      "cell_type": "code",
      "metadata": {
        "id": "2i7Dg_lJVsMo"
      },
      "source": [
        "# MSE loss function\n",
        "def mse_loss(actual, predicted):\n",
        "    diff = actual - predicted\n",
        "    return np.sum(diff * diff) / diff.size"
      ],
      "execution_count": 51,
      "outputs": []
    },
    {
      "cell_type": "code",
      "metadata": {
        "colab": {
          "base_uri": "https://localhost:8080/"
        },
        "id": "4P9sipdeVu2Q",
        "outputId": "c64a409a-b1f1-4abc-936f-5a18d91e474b"
      },
      "source": [
        "# Define the model\n",
        "def predict(x,w):\n",
        "    return (x @ w.T) + base\n",
        "\n",
        "# Compute error\n",
        "preds = predict(x,w)\n",
        "cost_initial = mse_loss(preds, targets)\n",
        "print(\"before regression cost is : \", cost_initial)"
      ],
      "execution_count": 52,
      "outputs": [
        {
          "output_type": "stream",
          "name": "stdout",
          "text": [
            "before regression cost is :  6871.207292664606\n"
          ]
        }
      ]
    },
    {
      "cell_type": "code",
      "metadata": {
        "id": "H4x7cKoBV4qR"
      },
      "source": [
        "def gradient_descent(X, y, w, learning_rate, epochs):\n",
        "    history = np.zeros((epochs, 1))\n",
        "    for i in range(epochs):\n",
        "        h = predict(X, w)\n",
        "        diff = h - y\n",
        "        delta = (learning_rate / targets.size) * (X.T@diff)\n",
        "        new_w = w - delta.T\n",
        "        w = new_w\n",
        "        history[i] = mse_loss(h, y)\n",
        "        print(\"loss {} iteration {}\".format(history[i],i))\n",
        "    return (history, w)"
      ],
      "execution_count": 53,
      "outputs": []
    },
    {
      "cell_type": "code",
      "metadata": {
        "colab": {
          "base_uri": "https://localhost:8080/"
        },
        "id": "alfGK4DDWFFo",
        "outputId": "ebb4a77c-7480-4f1a-a98c-987bb0a1fc89"
      },
      "source": [
        "import matplotlib.pyplot as plt\n",
        "epochs = 250\n",
        "learning_rate = 0.01\n",
        "\n",
        "initial_cost = mse_loss(predict(x, w),targets)\n",
        "\n",
        "print(\"Initial cost is: \", initial_cost, \"\\n\")\n",
        "\n",
        "(history, optimal_params) = gradient_descent(x, targets, w, learning_rate, epochs)\n",
        "\n",
        "print(\"Optimal parameters are: \\n\", optimal_params, \"\\n\")\n",
        "\n",
        "print(\"Final cost is: \", history[-1])"
      ],
      "execution_count": 55,
      "outputs": [
        {
          "output_type": "stream",
          "name": "stdout",
          "text": [
            "Initial cost is:  6871.207292664606 \n",
            "\n",
            "loss [6871.20729266] iteration 0\n",
            "loss [6714.3457288] iteration 1\n",
            "loss [6561.4234966] iteration 2\n",
            "loss [6412.32982145] iteration 3\n",
            "loss [6266.95740892] iteration 4\n",
            "loss [6125.20232537] iteration 5\n",
            "loss [5986.96388277] iteration 6\n",
            "loss [5852.14452786] iteration 7\n",
            "loss [5720.6497352] iteration 8\n",
            "loss [5592.38790418] iteration 9\n",
            "loss [5467.27025976] iteration 10\n",
            "loss [5345.21075676] iteration 11\n",
            "loss [5226.12598764] iteration 12\n",
            "loss [5109.93509358] iteration 13\n",
            "loss [4996.55967881] iteration 14\n",
            "loss [4885.92372796] iteration 15\n",
            "loss [4777.95352641] iteration 16\n",
            "loss [4672.57758348] iteration 17\n",
            "loss [4569.72655843] iteration 18\n",
            "loss [4469.33318898] iteration 19\n",
            "loss [4371.33222249] iteration 20\n",
            "loss [4275.66034956] iteration 21\n",
            "loss [4182.25613998] iteration 22\n",
            "loss [4091.05998091] iteration 23\n",
            "loss [4002.01401738] iteration 24\n",
            "loss [3915.06209473] iteration 25\n",
            "loss [3830.14970322] iteration 26\n",
            "loss [3747.22392448] iteration 27\n",
            "loss [3666.23337994] iteration 28\n",
            "loss [3587.12818102] iteration 29\n",
            "loss [3509.85988104] iteration 30\n",
            "loss [3434.38142888] iteration 31\n",
            "loss [3360.64712421] iteration 32\n",
            "loss [3288.61257427] iteration 33\n",
            "loss [3218.2346522] iteration 34\n",
            "loss [3149.47145678] iteration 35\n",
            "loss [3082.28227356] iteration 36\n",
            "loss [3016.62753735] iteration 37\n",
            "loss [2952.46879601] iteration 38\n",
            "loss [2889.76867546] iteration 39\n",
            "loss [2828.49084592] iteration 40\n",
            "loss [2768.59998925] iteration 41\n",
            "loss [2710.06176752] iteration 42\n",
            "loss [2652.84279249] iteration 43\n",
            "loss [2596.91059631] iteration 44\n",
            "loss [2542.23360306] iteration 45\n",
            "loss [2488.78110131] iteration 46\n",
            "loss [2436.52321767] iteration 47\n",
            "loss [2385.43089112] iteration 48\n",
            "loss [2335.4758483] iteration 49\n",
            "loss [2286.63057954] iteration 50\n",
            "loss [2238.8683158] iteration 51\n",
            "loss [2192.16300627] iteration 52\n",
            "loss [2146.48929677] iteration 53\n",
            "loss [2101.8225089] iteration 54\n",
            "loss [2058.1386198] iteration 55\n",
            "loss [2015.41424266] iteration 56\n",
            "loss [1973.62660779] iteration 57\n",
            "loss [1932.75354441] iteration 58\n",
            "loss [1892.77346296] iteration 59\n",
            "loss [1853.66533799] iteration 60\n",
            "loss [1815.40869167] iteration 61\n",
            "loss [1777.98357778] iteration 62\n",
            "loss [1741.37056624] iteration 63\n",
            "loss [1705.55072813] iteration 64\n",
            "loss [1670.50562121] iteration 65\n",
            "loss [1636.2172759] iteration 66\n",
            "loss [1602.66818169] iteration 67\n",
            "loss [1569.84127402] iteration 68\n",
            "loss [1537.71992154] iteration 69\n",
            "loss [1506.28791382] iteration 70\n",
            "loss [1475.52944938] iteration 71\n",
            "loss [1445.42912422] iteration 72\n",
            "loss [1415.97192053] iteration 73\n",
            "loss [1387.14319596] iteration 74\n",
            "loss [1358.92867307] iteration 75\n",
            "loss [1331.31442916] iteration 76\n",
            "loss [1304.28688645] iteration 77\n",
            "loss [1277.83280252] iteration 78\n",
            "loss [1251.93926109] iteration 79\n",
            "loss [1226.593663] iteration 80\n",
            "loss [1201.78371758] iteration 81\n",
            "loss [1177.49743421] iteration 82\n",
            "loss [1153.72311414] iteration 83\n",
            "loss [1130.44934261] iteration 84\n",
            "loss [1107.66498114] iteration 85\n",
            "loss [1085.35916014] iteration 86\n",
            "loss [1063.52127163] iteration 87\n",
            "loss [1042.14096229] iteration 88\n",
            "loss [1021.20812663] iteration 89\n",
            "loss [1000.71290046] iteration 90\n",
            "loss [980.64565444] iteration 91\n",
            "loss [960.99698792] iteration 92\n",
            "loss [941.7577229] iteration 93\n",
            "loss [922.91889819] iteration 94\n",
            "loss [904.47176379] iteration 95\n",
            "loss [886.4077753] iteration 96\n",
            "loss [868.71858867] iteration 97\n",
            "loss [851.39605494] iteration 98\n",
            "loss [834.43221527] iteration 99\n",
            "loss [817.819296] iteration 100\n",
            "loss [801.54970393] iteration 101\n",
            "loss [785.61602168] iteration 102\n",
            "loss [770.01100326] iteration 103\n",
            "loss [754.72756966] iteration 104\n",
            "loss [739.75880467] iteration 105\n",
            "loss [725.09795074] iteration 106\n",
            "loss [710.73840498] iteration 107\n",
            "loss [696.67371533] iteration 108\n",
            "loss [682.89757673] iteration 109\n",
            "loss [669.40382749] iteration 110\n",
            "loss [656.18644573] iteration 111\n",
            "loss [643.23954588] iteration 112\n",
            "loss [630.55737533] iteration 113\n",
            "loss [618.13431119] iteration 114\n",
            "loss [605.96485703] iteration 115\n",
            "loss [594.04363984] iteration 116\n",
            "loss [582.36540702] iteration 117\n",
            "loss [570.92502338] iteration 118\n",
            "loss [559.71746838] iteration 119\n",
            "loss [548.73783329] iteration 120\n",
            "loss [537.98131849] iteration 121\n",
            "loss [527.44323088] iteration 122\n",
            "loss [517.11898131] iteration 123\n",
            "loss [507.00408206] iteration 124\n",
            "loss [497.09414445] iteration 125\n",
            "loss [487.38487648] iteration 126\n",
            "loss [477.87208051] iteration 127\n",
            "loss [468.55165104] iteration 128\n",
            "loss [459.41957253] iteration 129\n",
            "loss [450.47191727] iteration 130\n",
            "loss [441.70484335] iteration 131\n",
            "loss [433.11459258] iteration 132\n",
            "loss [424.6974886] iteration 133\n",
            "loss [416.44993495] iteration 134\n",
            "loss [408.36841316] iteration 135\n",
            "loss [400.44948103] iteration 136\n",
            "loss [392.68977078] iteration 137\n",
            "loss [385.08598737] iteration 138\n",
            "loss [377.63490683] iteration 139\n",
            "loss [370.33337458] iteration 140\n",
            "loss [363.1783039] iteration 141\n",
            "loss [356.16667433] iteration 142\n",
            "loss [349.29553016] iteration 143\n",
            "loss [342.56197897] iteration 144\n",
            "loss [335.9631902] iteration 145\n",
            "loss [329.49639369] iteration 146\n",
            "loss [323.15887839] iteration 147\n",
            "loss [316.94799096] iteration 148\n",
            "loss [310.86113451] iteration 149\n",
            "loss [304.89576729] iteration 150\n",
            "loss [299.04940149] iteration 151\n",
            "loss [293.319602] iteration 152\n",
            "loss [287.70398527] iteration 153\n",
            "loss [282.20021811] iteration 154\n",
            "loss [276.80601659] iteration 155\n",
            "loss [271.51914495] iteration 156\n",
            "loss [266.33741454] iteration 157\n",
            "loss [261.25868275] iteration 158\n",
            "loss [256.28085198] iteration 159\n",
            "loss [251.40186871] iteration 160\n",
            "loss [246.61972247] iteration 161\n",
            "loss [241.93244489] iteration 162\n",
            "loss [237.33810883] iteration 163\n",
            "loss [232.83482742] iteration 164\n",
            "loss [228.42075321] iteration 165\n",
            "loss [224.09407728] iteration 166\n",
            "loss [219.85302844] iteration 167\n",
            "loss [215.69587238] iteration 168\n",
            "loss [211.62091086] iteration 169\n",
            "loss [207.62648097] iteration 170\n",
            "loss [203.71095431] iteration 171\n",
            "loss [199.87273627] iteration 172\n",
            "loss [196.11026531] iteration 173\n",
            "loss [192.42201223] iteration 174\n",
            "loss [188.80647946] iteration 175\n",
            "loss [185.26220043] iteration 176\n",
            "loss [181.78773885] iteration 177\n",
            "loss [178.38168807] iteration 178\n",
            "loss [175.04267048] iteration 179\n",
            "loss [171.76933685] iteration 180\n",
            "loss [168.56036575] iteration 181\n",
            "loss [165.41446292] iteration 182\n",
            "loss [162.33036074] iteration 183\n",
            "loss [159.30681763] iteration 184\n",
            "loss [156.34261751] iteration 185\n",
            "loss [153.43656924] iteration 186\n",
            "loss [150.58750611] iteration 187\n",
            "loss [147.79428534] iteration 188\n",
            "loss [145.05578751] iteration 189\n",
            "loss [142.37091615] iteration 190\n",
            "loss [139.73859717] iteration 191\n",
            "loss [137.15777847] iteration 192\n",
            "loss [134.62742941] iteration 193\n",
            "loss [132.14654041] iteration 194\n",
            "loss [129.71412247] iteration 195\n",
            "loss [127.32920674] iteration 196\n",
            "loss [124.99084413] iteration 197\n",
            "loss [122.69810488] iteration 198\n",
            "loss [120.45007813] iteration 199\n",
            "loss [118.24587156] iteration 200\n",
            "loss [116.08461098] iteration 201\n",
            "loss [113.96543997] iteration 202\n",
            "loss [111.8875195] iteration 203\n",
            "loss [109.85002755] iteration 204\n",
            "loss [107.8521588] iteration 205\n",
            "loss [105.89312424] iteration 206\n",
            "loss [103.97215084] iteration 207\n",
            "loss [102.08848126] iteration 208\n",
            "loss [100.24137345] iteration 209\n",
            "loss [98.43010041] iteration 210\n",
            "loss [96.65394981] iteration 211\n",
            "loss [94.91222375] iteration 212\n",
            "loss [93.20423841] iteration 213\n",
            "loss [91.52932379] iteration 214\n",
            "loss [89.8868234] iteration 215\n",
            "loss [88.27609403] iteration 216\n",
            "loss [86.69650541] iteration 217\n",
            "loss [85.14743999] iteration 218\n",
            "loss [83.62829267] iteration 219\n",
            "loss [82.13847053] iteration 220\n",
            "loss [80.67739258] iteration 221\n",
            "loss [79.24448955] iteration 222\n",
            "loss [77.83920361] iteration 223\n",
            "loss [76.46098814] iteration 224\n",
            "loss [75.10930752] iteration 225\n",
            "loss [73.7836369] iteration 226\n",
            "loss [72.48346195] iteration 227\n",
            "loss [71.20827869] iteration 228\n",
            "loss [69.95759325] iteration 229\n",
            "loss [68.73092168] iteration 230\n",
            "loss [67.52778972] iteration 231\n",
            "loss [66.34773263] iteration 232\n",
            "loss [65.19029499] iteration 233\n",
            "loss [64.05503049] iteration 234\n",
            "loss [62.94150179] iteration 235\n",
            "loss [61.84928028] iteration 236\n",
            "loss [60.77794594] iteration 237\n",
            "loss [59.72708717] iteration 238\n",
            "loss [58.69630058] iteration 239\n",
            "loss [57.68519086] iteration 240\n",
            "loss [56.69337061] iteration 241\n",
            "loss [55.72046016] iteration 242\n",
            "loss [54.76608744] iteration 243\n",
            "loss [53.82988781] iteration 244\n",
            "loss [52.91150391] iteration 245\n",
            "loss [52.0105855] iteration 246\n",
            "loss [51.12678935] iteration 247\n",
            "loss [50.25977907] iteration 248\n",
            "loss [49.40922499] iteration 249\n",
            "Optimal parameters are: \n",
            " [[69.89981887 -4.76226059 21.46703583 12.42130558]] \n",
            "\n",
            "Final cost is:  [49.40922499]\n"
          ]
        }
      ]
    },
    {
      "cell_type": "markdown",
      "metadata": {
        "id": "TaC_aMBTWa7J"
      },
      "source": [
        "Adjust Weights using Gradints"
      ]
    },
    {
      "cell_type": "code",
      "metadata": {
        "colab": {
          "base_uri": "https://localhost:8080/",
          "height": 295
        },
        "id": "ej4gzOMdWdJ4",
        "outputId": "2e86e112-0df2-4ecc-d3e7-686c0ebb7afb"
      },
      "source": [
        "import matplotlib.pyplot as plt\n",
        "\n",
        "\n",
        "plt.plot(range(len(history)), history, 'g')\n",
        "\n",
        "plt.title(\"Convergence Graph of Cost Function\")\n",
        "plt.xlabel(\"Number of Iterations\")\n",
        "plt.ylabel(\"Cost\")\n",
        "plt.show()"
      ],
      "execution_count": 56,
      "outputs": [
        {
          "output_type": "display_data",
          "data": {
            "image/png": "[encoded data removed]",
            "text/plain": [
              "<Figure size 432x288 with 1 Axes>"
            ]
          },
          "metadata": {
            "needs_background": "light"
          }
        }
      ]
    },
    {
      "cell_type": "code",
      "metadata": {
        "colab": {
          "base_uri": "https://localhost:8080/"
        },
        "id": "6joEDqO9Wg0X",
        "outputId": "f0351767-dd4d-4c65-9c9e-c8294a6e5c53"
      },
      "source": [
        "# Calculate error\n",
        "preds = predict(x, optimal_params)\n",
        "cost_final = mse_loss(preds, targets)\n",
        "# Print predictions\n",
        "print(\"Prediction:\\n\",preds)\n",
        "# Comparing predicted with targets\n",
        "print(\"Targets:\\n\", targets)"
      ],
      "execution_count": 57,
      "outputs": [
        {
          "output_type": "stream",
          "name": "stdout",
          "text": [
            "Prediction:\n",
            " [[ 50.11962625]\n",
            " [ 78.71513183]\n",
            " [106.82793194]\n",
            " [ 15.75126292]\n",
            " [ 99.01645308]\n",
            " [ 50.11962625]\n",
            " [ 78.71513183]\n",
            " [106.82793194]\n",
            " [ 15.75126292]\n",
            " [ 99.01645308]\n",
            " [ 50.11962625]\n",
            " [ 78.71513183]\n",
            " [106.82793194]\n",
            " [ 15.75126292]\n",
            " [ 99.01645308]]\n",
            "Targets:\n",
            " [[ 56.]\n",
            " [ 81.]\n",
            " [119.]\n",
            " [ 22.]\n",
            " [103.]\n",
            " [ 56.]\n",
            " [ 81.]\n",
            " [119.]\n",
            " [ 22.]\n",
            " [103.]\n",
            " [ 56.]\n",
            " [ 81.]\n",
            " [119.]\n",
            " [ 22.]\n",
            " [103.]]\n"
          ]
        }
      ]
    },
    {
      "cell_type": "code",
      "metadata": {
        "colab": {
          "base_uri": "https://localhost:8080/"
        },
        "id": "OQbG_aRXWinR",
        "outputId": "4c49d661-a0df-42ba-b0fa-d31565bbd963"
      },
      "source": [
        "print(\"Cost after linear regression: \", cost_final)\n",
        "print(\"Cost reduction : {} %\".format(((cost_initial- cost_final) / cost_initial) * 100))"
      ],
      "execution_count": 58,
      "outputs": [
        {
          "output_type": "stream",
          "name": "stdout",
          "text": [
            "Cost after linear regression:  48.5748040069338\n",
            "Cost reduction : 99.29306740521727 %\n"
          ]
        }
      ]
    },
    {
      "cell_type": "code",
      "metadata": {
        "id": "ckV4Md2dZ5s3"
      },
      "source": [
        ""
      ],
      "execution_count": null,
      "outputs": []
    }
  ]
}