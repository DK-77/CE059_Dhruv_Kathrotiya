{
  "nbformat": 4,
  "nbformat_minor": 0,
  "metadata": {
    "colab": {
      "name": "Lab5_Task1_CE059.ipynb",
      "provenance": [],
      "include_colab_link": true
    },
    "kernelspec": {
      "name": "python3",
      "display_name": "Python 3"
    },
    "language_info": {
      "name": "python"
    }
  },
  "cells": [
    {
      "cell_type": "markdown",
      "metadata": {
        "id": "view-in-github",
        "colab_type": "text"
      },
      "source": [
        "<a href=\"https://colab.research.google.com/github/DK-77/CE059_Dhruv_Kathrotiya/blob/main/Lab5/Lab5_Task1_CE059.ipynb\" target=\"_parent\"><img src=\"https://colab.research.google.com/assets/colab-badge.svg\" alt=\"Open In Colab\"/></a>"
      ]
    },
    {
      "cell_type": "code",
      "metadata": {
        "colab": {
          "base_uri": "https://localhost:8080/"
        },
        "id": "X8qjf0lkEvJQ",
        "outputId": "52161743-5336-46ce-b2f3-d43ebd119b0f"
      },
      "source": [
        "from google.colab import drive\n",
        "drive.mount(\"/content/drive\")"
      ],
      "execution_count": 1,
      "outputs": [
        {
          "output_type": "stream",
          "name": "stdout",
          "text": [
            "Mounted at /content/drive\n"
          ]
        }
      ]
    },
    {
      "cell_type": "code",
      "metadata": {
        "id": "3hb9Xt-GEx5P"
      },
      "source": [
        "import numpy as np"
      ],
      "execution_count": 2,
      "outputs": []
    },
    {
      "cell_type": "code",
      "metadata": {
        "id": "dAVzTEutVkmi"
      },
      "source": [
        "# Input (temp, rainfall, humidity)\n",
        "inputs = np.array([[73, 67, 43], [91, 88, 64], [87, 134, 58], [102, 43, 37], [69, 96, 70], [73, 67, 43], [91, 88, 64], [87, 134, 58], [102, 43, 37], [69, 96, 70], [73, 67, 43], [91, 88, 64], [87, 134, 58], [102, 43, 37], [69, 96, 70]], dtype='float32')\n",
        "# Targets (apples)\n",
        "# only for apples\n",
        "targets = np.array([[56], [81], [119], [22], [103], \n",
        "                    [56], [81], [119], [22], [103], \n",
        "                    [56], [81], [119], [22], [103]], dtype='float32')"
      ],
      "execution_count": 3,
      "outputs": []
    },
    {
      "cell_type": "code",
      "metadata": {
        "colab": {
          "base_uri": "https://localhost:8080/"
        },
        "id": "tBGDucS2Vmbn",
        "outputId": "fa33fcfb-2129-4376-f511-29dbac4274e5"
      },
      "source": [
        "m = np.mean(inputs,0)\n",
        "print(\"mean :- \",m)\n",
        "std_dev = np.std(inputs, 0)\n",
        "print(\"\\n\\nstandard deviation :- \",std_dev)\n",
        "#normalizing the input\n",
        "x = (inputs-m) / std_dev\n",
        "x = np.hstack((np.ones((targets.size,1)),x))\n",
        "print(\"\\n\\nx \",x)\n"
      ],
      "execution_count": 14,
      "outputs": [
        {
          "output_type": "stream",
          "name": "stdout",
          "text": [
            "mean :-  [84.4 85.6 54.4]\n",
            "\n",
            "\n",
            "standard deviation :-  [12.059851 30.388155 12.499599]\n",
            "\n",
            "\n",
            "x  [[ 1.         -0.94528544 -0.61208057 -0.91202933]\n",
            " [ 1.          0.54727036  0.07897819  0.7680245 ]\n",
            " [ 1.          0.21559127  1.59272587  0.28800911]\n",
            " [ 1.          1.45938778 -1.40186191 -1.39204478]\n",
            " [ 1.         -1.27696455  0.34223866  1.24803984]\n",
            " [ 1.         -0.94528544 -0.61208057 -0.91202933]\n",
            " [ 1.          0.54727036  0.07897819  0.7680245 ]\n",
            " [ 1.          0.21559127  1.59272587  0.28800911]\n",
            " [ 1.          1.45938778 -1.40186191 -1.39204478]\n",
            " [ 1.         -1.27696455  0.34223866  1.24803984]\n",
            " [ 1.         -0.94528544 -0.61208057 -0.91202933]\n",
            " [ 1.          0.54727036  0.07897819  0.7680245 ]\n",
            " [ 1.          0.21559127  1.59272587  0.28800911]\n",
            " [ 1.          1.45938778 -1.40186191 -1.39204478]\n",
            " [ 1.         -1.27696455  0.34223866  1.24803984]]\n"
          ]
        }
      ]
    },
    {
      "cell_type": "markdown",
      "metadata": {
        "id": "pFZ4HhHIXzly"
      },
      "source": [
        "Linear Regression Model (from scratch)\n",
        "\n",
        "The weights and biases can also be represented as matrices, initialized with random values. The first row of w and the first element of b are use to predict the first target variable i.e. yield for apples, and similarly the second for oranges."
      ]
    },
    {
      "cell_type": "code",
      "metadata": {
        "colab": {
          "base_uri": "https://localhost:8080/"
        },
        "id": "z-i6eF15VqPv",
        "outputId": "08325b5c-0d57-481f-e2aa-6fa620dfc25c"
      },
      "source": [
        "# Weights and biases\n",
        "rg = np.random.default_rng(59)\n",
        "w = rg.random((1, 4))\n",
        "print(w)"
      ],
      "execution_count": 15,
      "outputs": [
        {
          "output_type": "stream",
          "name": "stdout",
          "text": [
            "[[0.58774716 0.82606617 0.11694378 0.37742961]]\n"
          ]
        }
      ]
    },
    {
      "cell_type": "code",
      "metadata": {
        "id": "2i7Dg_lJVsMo"
      },
      "source": [
        "# MSE loss function\n",
        "def mse_loss(t1, t2):\n",
        "    diff = t1 - t2\n",
        "    return np.sum(diff * diff) / diff.size"
      ],
      "execution_count": 32,
      "outputs": []
    },
    {
      "cell_type": "code",
      "metadata": {
        "colab": {
          "base_uri": "https://localhost:8080/"
        },
        "id": "4P9sipdeVu2Q",
        "outputId": "6f3cdece-52ac-4d26-d260-a79005359af4"
      },
      "source": [
        "# Define the model\n",
        "def predict(x,w):\n",
        "    return x @ w.T\n",
        "\n",
        "# Compute error\n",
        "preds = predict(x,w)\n",
        "cost_initial = mse_loss(preds, targets)\n",
        "print(\"before regression cost is : \", cost_initial)"
      ],
      "execution_count": 33,
      "outputs": [
        {
          "output_type": "stream",
          "name": "stdout",
          "text": [
            "before regression cost is :  6899.340030881299\n"
          ]
        }
      ]
    },
    {
      "cell_type": "code",
      "metadata": {
        "id": "H4x7cKoBV4qR"
      },
      "source": [
        "def gradient_descent(X, y, w, learning_rate, epochs):\n",
        "    history = np.zeros((epochs, 1))\n",
        "    for i in range(epochs):\n",
        "        h = predict(X, w)\n",
        "        diff = h - y\n",
        "        delta = (learning_rate / targets.size) * (X.T@diff)\n",
        "        new_w = w - delta.T\n",
        "        w = new_w\n",
        "        history[i] = mse_loss(h, y)\n",
        "        print(\"loss {} iteration {}\".format(history[i],i))\n",
        "    return (history, w)"
      ],
      "execution_count": 34,
      "outputs": []
    },
    {
      "cell_type": "code",
      "metadata": {
        "colab": {
          "base_uri": "https://localhost:8080/"
        },
        "id": "alfGK4DDWFFo",
        "outputId": "27811a0b-5527-4514-9580-2dac052f0a4e"
      },
      "source": [
        "import matplotlib.pyplot as plt\n",
        "epochs = 250\n",
        "learning_rate = 0.01\n",
        "\n",
        "initial_cost = mse_loss(predict(x, w),targets)\n",
        "\n",
        "print(\"Initial cost is: \", initial_cost, \"\\n\")\n",
        "\n",
        "(history, optimal_params) = gradient_descent(x, targets, w, learning_rate, epochs)\n",
        "\n",
        "print(\"Optimal parameters are: \\n\", optimal_params, \"\\n\")\n",
        "\n",
        "print(\"Final cost is: \", history[-1])"
      ],
      "execution_count": 41,
      "outputs": [
        {
          "output_type": "stream",
          "name": "stdout",
          "text": [
            "Initial cost is:  6899.340030881299 \n",
            "\n",
            "loss [6899.34003088] iteration 0\n",
            "loss [6741.91862553] iteration 1\n",
            "loss [6588.44769269] iteration 2\n",
            "loss [6438.81623603] iteration 3\n",
            "loss [6292.91674385] iteration 4\n",
            "loss [6150.64506953] iteration 5\n",
            "loss [6011.90031633] iteration 6\n",
            "loss [5876.5847264] iteration 7\n",
            "loss [5744.60357378] iteration 8\n",
            "loss [5615.86506138] iteration 9\n",
            "loss [5490.28022153] iteration 10\n",
            "loss [5367.76282029] iteration 11\n",
            "loss [5248.2292651] iteration 12\n",
            "loss [5131.59851582] iteration 13\n",
            "loss [5017.79199895] iteration 14\n",
            "loss [4906.73352493] iteration 15\n",
            "loss [4798.34920842] iteration 16\n",
            "loss [4692.56739143] iteration 17\n",
            "loss [4589.3185692] iteration 18\n",
            "loss [4488.53531873] iteration 19\n",
            "loss [4390.15222986] iteration 20\n",
            "loss [4294.10583879] iteration 21\n",
            "loss [4200.33456396] iteration 22\n",
            "loss [4108.77864426] iteration 23\n",
            "loss [4019.38007933] iteration 24\n",
            "loss [3932.08257205] iteration 25\n",
            "loss [3846.83147304] iteration 26\n",
            "loss [3763.57372708] iteration 27\n",
            "loss [3682.25782147] iteration 28\n",
            "loss [3602.83373616] iteration 29\n",
            "loss [3525.25289564] iteration 30\n",
            "loss [3449.46812249] iteration 31\n",
            "loss [3375.43359261] iteration 32\n",
            "loss [3303.10479195] iteration 33\n",
            "loss [3232.43847475] iteration 34\n",
            "loss [3163.39262326] iteration 35\n",
            "loss [3095.92640883] iteration 36\n",
            "loss [3030.00015432] iteration 37\n",
            "loss [2965.57529791] iteration 38\n",
            "loss [2902.61435797] iteration 39\n",
            "loss [2841.08089934] iteration 40\n",
            "loss [2780.93950061] iteration 41\n",
            "loss [2722.1557226] iteration 42\n",
            "loss [2664.69607787] iteration 43\n",
            "loss [2608.52800132] iteration 44\n",
            "loss [2553.6198217] iteration 45\n",
            "loss [2499.9407342] iteration 46\n",
            "loss [2447.46077386] iteration 47\n",
            "loss [2396.15078995] iteration 48\n",
            "loss [2345.98242114] iteration 49\n",
            "loss [2296.92807158] iteration 50\n",
            "loss [2248.96088775] iteration 51\n",
            "loss [2202.05473604] iteration 52\n",
            "loss [2156.18418112] iteration 53\n",
            "loss [2111.32446505] iteration 54\n",
            "loss [2067.45148702] iteration 55\n",
            "loss [2024.54178382] iteration 56\n",
            "loss [1982.57251088] iteration 57\n",
            "loss [1941.52142403] iteration 58\n",
            "loss [1901.36686177] iteration 59\n",
            "loss [1862.08772816] iteration 60\n",
            "loss [1823.66347628] iteration 61\n",
            "loss [1786.07409217] iteration 62\n",
            "loss [1749.30007939] iteration 63\n",
            "loss [1713.32244397] iteration 64\n",
            "loss [1678.12267991] iteration 65\n",
            "loss [1643.68275513] iteration 66\n",
            "loss [1609.98509789] iteration 67\n",
            "loss [1577.01258358] iteration 68\n",
            "loss [1544.74852204] iteration 69\n",
            "loss [1513.17664517] iteration 70\n",
            "loss [1482.28109498] iteration 71\n",
            "loss [1452.04641206] iteration 72\n",
            "loss [1422.45752435] iteration 73\n",
            "loss [1393.49973627] iteration 74\n",
            "loss [1365.15871822] iteration 75\n",
            "loss [1337.42049641] iteration 76\n",
            "loss [1310.27144296] iteration 77\n",
            "loss [1283.69826636] iteration 78\n",
            "loss [1257.68800219] iteration 79\n",
            "loss [1232.22800416] iteration 80\n",
            "loss [1207.30593535] iteration 81\n",
            "loss [1182.90975984] iteration 82\n",
            "loss [1159.02773449] iteration 83\n",
            "loss [1135.64840101] iteration 84\n",
            "loss [1112.76057829] iteration 85\n",
            "loss [1090.3533549] iteration 86\n",
            "loss [1068.41608191] iteration 87\n",
            "loss [1046.93836584] iteration 88\n",
            "loss [1025.91006186] iteration 89\n",
            "loss [1005.32126717] iteration 90\n",
            "loss [985.16231466] iteration 91\n",
            "loss [965.42376659] iteration 92\n",
            "loss [946.09640867] iteration 93\n",
            "loss [927.17124413] iteration 94\n",
            "loss [908.63948804] iteration 95\n",
            "loss [890.49256184] iteration 96\n",
            "loss [872.72208795] iteration 97\n",
            "loss [855.31988459] iteration 98\n",
            "loss [838.27796071] iteration 99\n",
            "loss [821.5885111] iteration 100\n",
            "loss [805.24391164] iteration 101\n",
            "loss [789.23671466] iteration 102\n",
            "loss [773.55964445] iteration 103\n",
            "loss [758.20559289] iteration 104\n",
            "loss [743.16761524] iteration 105\n",
            "loss [728.43892597] iteration 106\n",
            "loss [714.01289481] iteration 107\n",
            "loss [699.8830428] iteration 108\n",
            "loss [686.04303859] iteration 109\n",
            "loss [672.48669466] iteration 110\n",
            "loss [659.20796384] iteration 111\n",
            "loss [646.20093578] iteration 112\n",
            "loss [633.45983357] iteration 113\n",
            "loss [620.97901051] iteration 114\n",
            "loss [608.75294683] iteration 115\n",
            "loss [596.77624666] iteration 116\n",
            "loss [585.04363496] iteration 117\n",
            "loss [573.54995459] iteration 118\n",
            "loss [562.29016345] iteration 119\n",
            "loss [551.25933172] iteration 120\n",
            "loss [540.4526391] iteration 121\n",
            "loss [529.86537221] iteration 122\n",
            "loss [519.49292203] iteration 123\n",
            "loss [509.33078136] iteration 124\n",
            "loss [499.37454244] iteration 125\n",
            "loss [489.61989455] iteration 126\n",
            "loss [480.06262171] iteration 127\n",
            "loss [470.69860047] iteration 128\n",
            "loss [461.52379766] iteration 129\n",
            "loss [452.53426833] iteration 130\n",
            "loss [443.72615361] iteration 131\n",
            "loss [435.09567877] iteration 132\n",
            "loss [426.63915118] iteration 133\n",
            "loss [418.35295844] iteration 134\n",
            "loss [410.23356649] iteration 135\n",
            "loss [402.2775178] iteration 136\n",
            "loss [394.48142962] iteration 137\n",
            "loss [386.8419922] iteration 138\n",
            "loss [379.35596716] iteration 139\n",
            "loss [372.02018581] iteration 140\n",
            "loss [364.83154759] iteration 141\n",
            "loss [357.78701846] iteration 142\n",
            "loss [350.88362944] iteration 143\n",
            "loss [344.11847508] iteration 144\n",
            "loss [337.48871203] iteration 145\n",
            "loss [330.99155764] iteration 146\n",
            "loss [324.62428858] iteration 147\n",
            "loss [318.38423948] iteration 148\n",
            "loss [312.26880168] iteration 149\n",
            "loss [306.27542188] iteration 150\n",
            "loss [300.40160095] iteration 151\n",
            "loss [294.6448927] iteration 152\n",
            "loss [289.00290268] iteration 153\n",
            "loss [283.47328706] iteration 154\n",
            "loss [278.05375147] iteration 155\n",
            "loss [272.74204991] iteration 156\n",
            "loss [267.53598369] iteration 157\n",
            "loss [262.43340037] iteration 158\n",
            "loss [257.43219272] iteration 159\n",
            "loss [252.53029777] iteration 160\n",
            "loss [247.72569579] iteration 161\n",
            "loss [243.01640934] iteration 162\n",
            "loss [238.40050239] iteration 163\n",
            "loss [233.87607934] iteration 164\n",
            "loss [229.44128421] iteration 165\n",
            "loss [225.09429972] iteration 166\n",
            "loss [220.83334645] iteration 167\n",
            "loss [216.65668206] iteration 168\n",
            "loss [212.56260043] iteration 169\n",
            "loss [208.54943092] iteration 170\n",
            "loss [204.61553755] iteration 171\n",
            "loss [200.7593183] iteration 172\n",
            "loss [196.97920436] iteration 173\n",
            "loss [193.27365939] iteration 174\n",
            "loss [189.64117885] iteration 175\n",
            "loss [186.0802893] iteration 176\n",
            "loss [182.58954774] iteration 177\n",
            "loss [179.16754097] iteration 178\n",
            "loss [175.81288491] iteration 179\n",
            "loss [172.52422401] iteration 180\n",
            "loss [169.30023065] iteration 181\n",
            "loss [166.13960451] iteration 182\n",
            "loss [163.04107201] iteration 183\n",
            "loss [160.00338574] iteration 184\n",
            "loss [157.02532391] iteration 185\n",
            "loss [154.10568979] iteration 186\n",
            "loss [151.24331116] iteration 187\n",
            "loss [148.43703987] iteration 188\n",
            "loss [145.68575122] iteration 189\n",
            "loss [142.98834358] iteration 190\n",
            "loss [140.3437378] iteration 191\n",
            "loss [137.7508768] iteration 192\n",
            "loss [135.20872508] iteration 193\n",
            "loss [132.7162683] iteration 194\n",
            "loss [130.27251276] iteration 195\n",
            "loss [127.87648507] iteration 196\n",
            "loss [125.52723163] iteration 197\n",
            "loss [123.22381826] iteration 198\n",
            "loss [120.96532981] iteration 199\n",
            "loss [118.75086973] iteration 200\n",
            "loss [116.57955969] iteration 201\n",
            "loss [114.4505392] iteration 202\n",
            "loss [112.36296525] iteration 203\n",
            "loss [110.31601193] iteration 204\n",
            "loss [108.30887009] iteration 205\n",
            "loss [106.34074697] iteration 206\n",
            "loss [104.41086589] iteration 207\n",
            "loss [102.51846587] iteration 208\n",
            "loss [100.66280137] iteration 209\n",
            "loss [98.84314191] iteration 210\n",
            "loss [97.05877179] iteration 211\n",
            "loss [95.30898977] iteration 212\n",
            "loss [93.59310878] iteration 213\n",
            "loss [91.91045564] iteration 214\n",
            "loss [90.26037073] iteration 215\n",
            "loss [88.64220776] iteration 216\n",
            "loss [87.05533348] iteration 217\n",
            "loss [85.49912738] iteration 218\n",
            "loss [83.97298148] iteration 219\n",
            "loss [82.47630003] iteration 220\n",
            "loss [81.00849928] iteration 221\n",
            "loss [79.56900722] iteration 222\n",
            "loss [78.15726338] iteration 223\n",
            "loss [76.77271852] iteration 224\n",
            "loss [75.41483446] iteration 225\n",
            "loss [74.08308385] iteration 226\n",
            "loss [72.77694991] iteration 227\n",
            "loss [71.49592624] iteration 228\n",
            "loss [70.23951662] iteration 229\n",
            "loss [69.00723477] iteration 230\n",
            "loss [67.79860417] iteration 231\n",
            "loss [66.61315788] iteration 232\n",
            "loss [65.45043827] iteration 233\n",
            "loss [64.30999692] iteration 234\n",
            "loss [63.19139439] iteration 235\n",
            "loss [62.09420001] iteration 236\n",
            "loss [61.01799177] iteration 237\n",
            "loss [59.96235609] iteration 238\n",
            "loss [58.92688764] iteration 239\n",
            "loss [57.91118924] iteration 240\n",
            "loss [56.91487162] iteration 241\n",
            "loss [55.9375533] iteration 242\n",
            "loss [54.97886043] iteration 243\n",
            "loss [54.03842662] iteration 244\n",
            "loss [53.11589279] iteration 245\n",
            "loss [52.21090704] iteration 246\n",
            "loss [51.32312449] iteration 247\n",
            "loss [50.45220715] iteration 248\n",
            "loss [49.59782375] iteration 249\n",
            "Optimal parameters are: \n",
            " [[70.07098307 -4.7622606  21.46703583 12.42130557]] \n",
            "\n",
            "Final cost is:  [49.59782375]\n"
          ]
        }
      ]
    },
    {
      "cell_type": "markdown",
      "metadata": {
        "id": "TaC_aMBTWa7J"
      },
      "source": [
        "Adjust Weights using Gradints"
      ]
    },
    {
      "cell_type": "code",
      "metadata": {
        "colab": {
          "base_uri": "https://localhost:8080/",
          "height": 295
        },
        "id": "ej4gzOMdWdJ4",
        "outputId": "1232ef0a-eb66-4937-ef34-494375f25b57"
      },
      "source": [
        "import matplotlib.pyplot as plt\n",
        "\n",
        "\n",
        "plt.plot(range(len(history)), history, 'g')\n",
        "\n",
        "plt.title(\"Convergence Graph of Cost Function\")\n",
        "plt.xlabel(\"Number of Iterations\")\n",
        "plt.ylabel(\"Cost\")\n",
        "plt.show()"
      ],
      "execution_count": 42,
      "outputs": [
        {
          "output_type": "display_data",
          "data": {
            "image/png": "[encoded data removed]",
            "text/plain": [
              "<Figure size 432x288 with 1 Axes>"
            ]
          },
          "metadata": {
            "needs_background": "light"
          }
        }
      ]
    },
    {
      "cell_type": "code",
      "metadata": {
        "colab": {
          "base_uri": "https://localhost:8080/"
        },
        "id": "6joEDqO9Wg0X",
        "outputId": "ff17e522-0a82-4600-cc21-6b26196c4d9d"
      },
      "source": [
        "# Calculate error\n",
        "preds = predict(x, optimal_params)\n",
        "cost_final = mse_loss(preds, targets)\n",
        "# Print predictions\n",
        "print(\"Prediction:\\n\",preds)\n",
        "# Comparing predicted with targets\n",
        "print(\"Targets:\\n\", targets)"
      ],
      "execution_count": 43,
      "outputs": [
        {
          "output_type": "stream",
          "name": "stdout",
          "text": [
            "Prediction:\n",
            " [[ 50.10452811]\n",
            " [ 78.70003366]\n",
            " [106.81283379]\n",
            " [ 15.73616477]\n",
            " [ 99.00135493]\n",
            " [ 50.10452811]\n",
            " [ 78.70003366]\n",
            " [106.81283379]\n",
            " [ 15.73616477]\n",
            " [ 99.00135493]\n",
            " [ 50.10452811]\n",
            " [ 78.70003366]\n",
            " [106.81283379]\n",
            " [ 15.73616477]\n",
            " [ 99.00135493]]\n",
            "Targets:\n",
            " [[ 56.]\n",
            " [ 81.]\n",
            " [119.]\n",
            " [ 22.]\n",
            " [103.]\n",
            " [ 56.]\n",
            " [ 81.]\n",
            " [119.]\n",
            " [ 22.]\n",
            " [103.]\n",
            " [ 56.]\n",
            " [ 81.]\n",
            " [119.]\n",
            " [ 22.]\n",
            " [103.]]\n"
          ]
        }
      ]
    },
    {
      "cell_type": "code",
      "metadata": {
        "colab": {
          "base_uri": "https://localhost:8080/"
        },
        "id": "OQbG_aRXWinR",
        "outputId": "d1d45df1-16a3-44be-ce29-8b166c8a3890"
      },
      "source": [
        "print(\"Cost after linear regression: \", cost_final)\n",
        "print(\"Cost reduction : {} %\".format(((cost_initial- cost_final) / cost_initial) * 100))"
      ],
      "execution_count": 44,
      "outputs": [
        {
          "output_type": "stream",
          "name": "stdout",
          "text": [
            "Cost after linear regression:  48.75964964492111\n",
            "Cost reduction : 99.29327081392316 %\n"
          ]
        }
      ]
    },
    {
      "cell_type": "code",
      "metadata": {
        "id": "ckV4Md2dZ5s3"
      },
      "source": [
        ""
      ],
      "execution_count": null,
      "outputs": []
    }
  ]
}