{
  "nbformat": 4,
  "nbformat_minor": 0,
  "metadata": {
    "colab": {
      "name": "Lab3_Task1_CE059.ipynb",
      "provenance": [],
      "authorship_tag": "ABX9TyPWKWzzUDLZtJZZclhFSzlM",
      "include_colab_link": true
    },
    "kernelspec": {
      "name": "python3",
      "display_name": "Python 3"
    },
    "language_info": {
      "name": "python"
    }
  },
  "cells": [
    {
      "cell_type": "markdown",
      "metadata": {
        "id": "view-in-github",
        "colab_type": "text"
      },
      "source": [
        "<a href=\"https://colab.research.google.com/github/DK-77/CE059_Dhruv_Kathrotiya/blob/main/Lab3/Lab3_Task1_CE059.ipynb\" target=\"_parent\"><img src=\"https://colab.research.google.com/assets/colab-badge.svg\" alt=\"Open In Colab\"/></a>"
      ]
    },
    {
      "cell_type": "markdown",
      "metadata": {
        "id": "Dqdwcy6vjRvX"
      },
      "source": [
        "CE059 - Dataset 2, split 90-10, Label Encoding\n"
      ]
    },
    {
      "cell_type": "code",
      "metadata": {
        "id": "102yMOC1XSyb"
      },
      "source": [
        "import sklearn\n",
        "from sklearn import preprocessing\n",
        "from sklearn import datasets\n",
        "from sklearn.naive_bayes import GaussianNB, MultinomialNB"
      ],
      "execution_count": 31,
      "outputs": []
    },
    {
      "cell_type": "code",
      "metadata": {
        "colab": {
          "base_uri": "https://localhost:8080/"
        },
        "id": "znpHfZ__YvS8",
        "outputId": "dd06430f-ab2c-4cb3-eac4-8a34ef228a5d"
      },
      "source": [
        "from google.colab import drive\n",
        "drive.mount('/content/drive')"
      ],
      "execution_count": 2,
      "outputs": [
        {
          "output_type": "stream",
          "name": "stdout",
          "text": [
            "Mounted at /content/drive\n"
          ]
        }
      ]
    },
    {
      "cell_type": "code",
      "metadata": {
        "colab": {
          "base_uri": "https://localhost:8080/"
        },
        "id": "0AYEcYwIZWAy",
        "outputId": "4d86fe16-0e5b-449e-dab9-32f99df7f0a3"
      },
      "source": [
        "import numpy as np\n",
        "import pandas as pd\n",
        "\n",
        "data = pd.read_csv('/content/drive/MyDrive/ML/Lab3/PracticeDataSets/Dataset2.csv')\n",
        "print('\\n Data \\n', data)\n"
      ],
      "execution_count": 6,
      "outputs": [
        {
          "output_type": "stream",
          "name": "stdout",
          "text": [
            "\n",
            " Data \n",
            "    Outlook Temp Wind Humidity Class\n",
            "0        R    H    F   Normal     N\n",
            "1        R    H    T     High     N\n",
            "2        O    H    F   Normal     Y\n",
            "3        S    M    F   Normal     N\n",
            "4        S    M    F   Normal     Y\n",
            "5        S    M    T      Low     Y\n",
            "6        O    C    T   Normal     Y\n",
            "7        R    C    F   Normal     Y\n",
            "8        R    C    F      Low     Y\n",
            "9        S    M    F     High     Y\n",
            "10       R    M    T     High     Y\n",
            "11       O    M    T      Low     Y\n",
            "12       O    H    F   Normal     Y\n",
            "13       S    M    T   Normal     N\n"
          ]
        }
      ]
    },
    {
      "cell_type": "code",
      "metadata": {
        "colab": {
          "base_uri": "https://localhost:8080/"
        },
        "id": "B0BRXesAZ5FM",
        "outputId": "d68b76d3-f0b6-47b0-f96f-66675622fdb7"
      },
      "source": [
        "Outlook,Temp,Wind,Humidity,Class = [],[],[],[],[]\n",
        "\n",
        "Outlook = data.iloc[:,0].values\n",
        "print(\"\\n\\n Outlook \\n\\n\",Outlook)\n",
        "\n",
        "Temp = data.iloc[:,1].values\n",
        "print(\"\\n\\n Temp \\n\\n\",Temp)\n",
        "\n",
        "Wind = data.iloc[:,2].values\n",
        "print(\"\\n\\n Wind \\n\\n\",Wind)\n",
        "\n",
        "Humidity = data.iloc[:,3].values\n",
        "print(\"\\n Humidity \\n\\n\",Humidity)\n",
        "\n",
        "Class = data.iloc[:,4].values\n",
        "print(\"\\n Class \\n\\n\",Class)\n"
      ],
      "execution_count": 15,
      "outputs": [
        {
          "output_type": "stream",
          "name": "stdout",
          "text": [
            "\n",
            "\n",
            " Outlook \n",
            "\n",
            " ['R' 'R' 'O' 'S' 'S' 'S' 'O' 'R' 'R' 'S' 'R' 'O' 'O' 'S']\n",
            "\n",
            "\n",
            " Temp \n",
            "\n",
            " ['H' 'H' 'H' 'M' 'M' 'M' 'C' 'C' 'C' 'M' 'M' 'M' 'H' 'M']\n",
            "\n",
            "\n",
            " Wind \n",
            "\n",
            " ['F' 'T' 'F' 'F' 'F' 'T' 'T' 'F' 'F' 'F' 'T' 'T' 'F' 'T']\n",
            "\n",
            " Humidity \n",
            "\n",
            " ['Normal' 'High' 'Normal' 'Normal' 'Normal' 'Low' 'Normal' 'Normal' 'Low'\n",
            " 'High' 'High' 'Low' 'Normal' 'Normal']\n",
            "\n",
            " Class \n",
            "\n",
            " ['N' 'N' 'Y' 'N' 'Y' 'Y' 'Y' 'Y' 'Y' 'Y' 'Y' 'Y' 'Y' 'N']\n"
          ]
        }
      ]
    },
    {
      "cell_type": "code",
      "metadata": {
        "colab": {
          "base_uri": "https://localhost:8080/"
        },
        "id": "cjR3V_Dzbrmh",
        "outputId": "e5435472-6280-4e54-ff5d-d5cc38715d3d"
      },
      "source": [
        "#creating labelEncoder\n",
        "le = preprocessing.LabelEncoder()\n",
        "\n",
        "# Converting string labels into numbers.\n",
        "outlook_encoded=le.fit_transform(Outlook)\n",
        "print(\"Outlook:\" ,outlook_encoded)\n",
        "\n",
        "temp_encoded=le.fit_transform(Temp)\n",
        "print(\"\\n\\nTemp:\" ,temp_encoded)\n",
        "\n",
        "wind_encoded=le.fit_transform(Wind)\n",
        "print(\"\\n\\nWind:\" ,wind_encoded)\n",
        "\n",
        "humidity_encoded=le.fit_transform(Humidity)\n",
        "print(\"\\n\\nHumidity:\" ,humidity_encoded)\n",
        "\n",
        "class_encoded=le.fit_transform(Class)\n",
        "print(\"\\n\\nClass:\" ,class_encoded)"
      ],
      "execution_count": 17,
      "outputs": [
        {
          "output_type": "stream",
          "name": "stdout",
          "text": [
            "Outlook: [1 1 0 2 2 2 0 1 1 2 1 0 0 2]\n",
            "\n",
            "\n",
            "Temp: [1 1 1 2 2 2 0 0 0 2 2 2 1 2]\n",
            "\n",
            "\n",
            "Wind: [0 1 0 0 0 1 1 0 0 0 1 1 0 1]\n",
            "\n",
            "\n",
            "Humidity: [2 0 2 2 2 1 2 2 1 0 0 1 2 2]\n",
            "\n",
            "\n",
            "Class: [0 0 1 0 1 1 1 1 1 1 1 1 1 0]\n"
          ]
        }
      ]
    },
    {
      "cell_type": "code",
      "metadata": {
        "colab": {
          "base_uri": "https://localhost:8080/"
        },
        "id": "nN6au2eHc0pB",
        "outputId": "9378d1a3-ac8c-49f5-9464-ad28f6527721"
      },
      "source": [
        "#Combinig all features into single listof tuples\n",
        "features=tuple(zip(outlook_encoded,temp_encoded,wind_encoded,humidity_encoded))\n",
        "print(\"Features:\",features)\n",
        "targets = class_encoded\n",
        "print(\"\\n\\nTargets:\",targets)"
      ],
      "execution_count": 39,
      "outputs": [
        {
          "output_type": "stream",
          "name": "stdout",
          "text": [
            "Features: ((1, 1, 0, 2), (1, 1, 1, 0), (0, 1, 0, 2), (2, 2, 0, 2), (2, 2, 0, 2), (2, 2, 1, 1), (0, 0, 1, 2), (1, 0, 0, 2), (1, 0, 0, 1), (2, 2, 0, 0), (1, 2, 1, 0), (0, 2, 1, 1), (0, 1, 0, 2), (2, 2, 1, 2))\n",
            "\n",
            "\n",
            "Targets: [0 0 1 0 1 1 1 1 1 1 1 1 1 0]\n"
          ]
        }
      ]
    },
    {
      "cell_type": "code",
      "metadata": {
        "id": "OkvW5fp2gahS"
      },
      "source": [
        "#import the necessary module\n",
        "from sklearn.model_selection import train_test_split\n",
        "\n",
        "#split data set into train and test sets\n",
        "data_train, data_test, target_train, target_test = train_test_split(features,\n",
        "                        targets, test_size = 0.10, random_state = 59)"
      ],
      "execution_count": 40,
      "outputs": []
    },
    {
      "cell_type": "code",
      "metadata": {
        "id": "14GoK7ygjfhT"
      },
      "source": [
        "gnb = GaussianNB()\n",
        "\n",
        "#Train the model using the training sets\n",
        "gnb.fit(data_train, target_train)\n",
        "\n",
        "#Predict the response for test dataset\n",
        "target_pred = gnb.predict(data_test)"
      ],
      "execution_count": 41,
      "outputs": []
    },
    {
      "cell_type": "code",
      "metadata": {
        "colab": {
          "base_uri": "https://localhost:8080/"
        },
        "id": "JFUbkstDj7G9",
        "outputId": "710f8306-e4e2-4817-fb17-c5ff54f8be6a"
      },
      "source": [
        "#Import scikit-learn metrics module for accuracy calculation\n",
        "from sklearn import metrics\n",
        "\n",
        "# Model Accuracy, how often is the classifier correct?\n",
        "print(\"Accuracy:\",metrics.accuracy_score(target_test, target_pred))"
      ],
      "execution_count": 42,
      "outputs": [
        {
          "output_type": "stream",
          "name": "stdout",
          "text": [
            "Accuracy: 0.5\n"
          ]
        }
      ]
    },
    {
      "cell_type": "code",
      "metadata": {
        "colab": {
          "base_uri": "https://localhost:8080/"
        },
        "id": "6zWp7lp1kHEZ",
        "outputId": "ce5df29f-f78a-40e1-d8e3-73e1d38a11f9"
      },
      "source": [
        "from sklearn.metrics import precision_score\n",
        "from sklearn.metrics import recall_score\n",
        "\n",
        "precision = precision_score(target_test, target_pred)\n",
        "recall = recall_score(target_test, target_pred)\n",
        "\n",
        "print('precision: {}'.format(precision))\n",
        "print('recall: {}'.format(recall))"
      ],
      "execution_count": 43,
      "outputs": [
        {
          "output_type": "stream",
          "name": "stdout",
          "text": [
            "precision: 1.0\n",
            "recall: 0.5\n"
          ]
        }
      ]
    },
    {
      "cell_type": "code",
      "metadata": {
        "colab": {
          "base_uri": "https://localhost:8080/"
        },
        "id": "x04y4NfAknz-",
        "outputId": "acc6677c-a510-4fd7-b45d-08f190421995"
      },
      "source": [
        "#Import confusion_matrix from scikit-learn metrics module for confusion_matrix\n",
        "from sklearn.metrics import confusion_matrix\n",
        "confusion_matrix(target_test, target_pred)"
      ],
      "execution_count": 44,
      "outputs": [
        {
          "output_type": "execute_result",
          "data": {
            "text/plain": [
              "array([[0, 0],\n",
              "       [1, 1]])"
            ]
          },
          "metadata": {},
          "execution_count": 44
        }
      ]
    },
    {
      "cell_type": "markdown",
      "metadata": {
        "id": "QPucKx3qlHPd"
      },
      "source": [
        "(1) What will be the value of Play, if Outlook is ’Rainy’, Temperature is ’Mild’, Humidity =’Normal’, and Wind = ’False’?\n",
        "\n",
        "ANS -> True"
      ]
    },
    {
      "cell_type": "code",
      "metadata": {
        "colab": {
          "base_uri": "https://localhost:8080/"
        },
        "id": "H5UuKD-0lI2f",
        "outputId": "c675845a-306b-4733-c454-9d4eb1a88d43"
      },
      "source": [
        "gnb.predict([[1,2,0,2]])"
      ],
      "execution_count": 45,
      "outputs": [
        {
          "output_type": "execute_result",
          "data": {
            "text/plain": [
              "array([1])"
            ]
          },
          "metadata": {},
          "execution_count": 45
        }
      ]
    },
    {
      "cell_type": "markdown",
      "metadata": {
        "id": "X4LXjjd-ltxq"
      },
      "source": [
        "(2) What will be the value of Play, if Outlook is ’Sunny’, Temeprature is ’Cool’, Humidity =’High’, and Wind = ’True’?\n",
        "\n",
        "ANS -> TRUE"
      ]
    },
    {
      "cell_type": "code",
      "metadata": {
        "colab": {
          "base_uri": "https://localhost:8080/"
        },
        "id": "gr_OsKQWlvA6",
        "outputId": "042af217-3958-4a76-b04a-aa46fa9d7348"
      },
      "source": [
        "gnb.predict([[2,0,1,0]])"
      ],
      "execution_count": 46,
      "outputs": [
        {
          "output_type": "execute_result",
          "data": {
            "text/plain": [
              "array([1])"
            ]
          },
          "metadata": {},
          "execution_count": 46
        }
      ]
    },
    {
      "cell_type": "markdown",
      "metadata": {
        "id": "OeYHrGkFi2j-"
      },
      "source": [
        ""
      ]
    }
  ]
}