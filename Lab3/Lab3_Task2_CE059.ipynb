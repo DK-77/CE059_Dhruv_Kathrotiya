{
  "nbformat": 4,
  "nbformat_minor": 0,
  "metadata": {
    "colab": {
      "name": "Lab3_Task2_CE059.ipynb",
      "provenance": [],
      "authorship_tag": "ABX9TyNMM4qt1M2fnyv4qjZsCONU",
      "include_colab_link": true
    },
    "kernelspec": {
      "name": "python3",
      "display_name": "Python 3"
    },
    "language_info": {
      "name": "python"
    }
  },
  "cells": [
    {
      "cell_type": "markdown",
      "metadata": {
        "id": "view-in-github",
        "colab_type": "text"
      },
      "source": [
        "<a href=\"https://colab.research.google.com/github/DK-77/CE059_Dhruv_Kathrotiya/blob/main/Lab3/Lab3_Task2_CE059.ipynb\" target=\"_parent\"><img src=\"https://colab.research.google.com/assets/colab-badge.svg\" alt=\"Open In Colab\"/></a>"
      ]
    },
    {
      "cell_type": "markdown",
      "metadata": {
        "id": "_6bYz3WYp58L"
      },
      "source": [
        "CE059 - digits dataset, one-hot encoding, 65-35%"
      ]
    },
    {
      "cell_type": "code",
      "metadata": {
        "id": "5sBvfzpWmjgj"
      },
      "source": [
        "# Importing needful libraries\n",
        "\n",
        "import numpy as np\n",
        "import pandas as pd\n",
        "import matplotlib.pyplot as plt\n",
        "from sklearn import datasets, preprocessing\n",
        "\n",
        "# naive and gaussian model\n",
        "from sklearn.naive_bayes import GaussianNB, MultinomialNB\n",
        "from sklearn.model_selection import train_test_split\n",
        "\n",
        "# for accuracy\n",
        "from sklearn import metrics\n",
        "\n",
        "# print precision and recall\n",
        "from sklearn.metrics import precision_score\n",
        "from sklearn.metrics import recall_score\n",
        "from sklearn.datasets import load_digits"
      ],
      "execution_count": 1,
      "outputs": []
    },
    {
      "cell_type": "code",
      "metadata": {
        "colab": {
          "base_uri": "https://localhost:8080/"
        },
        "id": "MFUTAm_zqR3k",
        "outputId": "44ed4a2b-bc4e-4d8d-9ea1-4fb28b93f494"
      },
      "source": [
        "# Loading digits dataset from sklearn\n",
        "\n",
        "digits_data = load_digits()\n",
        "\n",
        "print(digits_data.data.shape)\n",
        "print(digits_data.target.shape)\n",
        "\n"
      ],
      "execution_count": 25,
      "outputs": [
        {
          "output_type": "stream",
          "name": "stdout",
          "text": [
            "(1797, 64)\n",
            "(1797,)\n"
          ]
        }
      ]
    },
    {
      "cell_type": "code",
      "metadata": {
        "id": "6DWPyOnqxDPp"
      },
      "source": [
        "from scipy.sparse.construct import random\n",
        "from sklearn.model_selection import train_test_split\n",
        "data_train, data_test, target_train, target_test = train_test_split(digits_data.data,digits_data.target,test_size=0.35,random_state=59)\n"
      ],
      "execution_count": 26,
      "outputs": []
    },
    {
      "cell_type": "code",
      "metadata": {
        "colab": {
          "base_uri": "https://localhost:8080/"
        },
        "id": "ikvtTWndyW89",
        "outputId": "9ab1a2e6-c510-4a68-8ec3-5c13dcd3df3f"
      },
      "source": [
        "# Gaussina models\n",
        "\n",
        "gnb = GaussianNB()\n",
        "\n",
        "# train model\n",
        "gnb.fit(data_train, target_train)\n",
        "\n",
        "# training completed\n",
        "target_predicted = gnb.predict(data_test)\n",
        "\n",
        "print(f\"Accuracy :- {metrics.accuracy_score(target_test, target_predicted)}\")"
      ],
      "execution_count": 27,
      "outputs": [
        {
          "output_type": "stream",
          "name": "stdout",
          "text": [
            "Accuracy :- 0.8314785373608903\n"
          ]
        }
      ]
    },
    {
      "cell_type": "code",
      "metadata": {
        "colab": {
          "base_uri": "https://localhost:8080/"
        },
        "id": "2LKGocXryl1V",
        "outputId": "82cb683c-65d5-467e-c445-2592bdaa3874"
      },
      "source": [
        "print(f\" report for classifier {gnb}:\\n\"\n",
        "      f\"{metrics.classification_report(target_test, target_predicted)}\\n\")"
      ],
      "execution_count": 30,
      "outputs": [
        {
          "output_type": "stream",
          "name": "stdout",
          "text": [
            " report for classifier GaussianNB(priors=None, var_smoothing=1e-09):\n",
            "              precision    recall  f1-score   support\n",
            "\n",
            "           0       0.97      0.98      0.98        61\n",
            "           1       0.78      0.91      0.84        58\n",
            "           2       1.00      0.51      0.67        59\n",
            "           3       0.78      0.72      0.75        58\n",
            "           4       1.00      0.84      0.91        76\n",
            "           5       0.87      0.92      0.89        60\n",
            "           6       0.94      0.98      0.96        59\n",
            "           7       0.77      1.00      0.87        79\n",
            "           8       0.50      0.84      0.63        49\n",
            "           9       1.00      0.59      0.74        70\n",
            "\n",
            "    accuracy                           0.83       629\n",
            "   macro avg       0.86      0.83      0.82       629\n",
            "weighted avg       0.87      0.83      0.83       629\n",
            "\n",
            "\n"
          ]
        }
      ]
    },
    {
      "cell_type": "code",
      "metadata": {
        "colab": {
          "base_uri": "https://localhost:8080/"
        },
        "id": "kuXRVPCpzOh9",
        "outputId": "6d4165c1-7062-40b2-e06d-7ce8b258bd41"
      },
      "source": [
        "#Import confusion_matrix from scikit-learn metrics module for confusion_matrix\n",
        "from sklearn.metrics import confusion_matrix\n",
        "confusion_matrix(target_test, target_predicted)"
      ],
      "execution_count": 32,
      "outputs": [
        {
          "output_type": "execute_result",
          "data": {
            "text/plain": [
              "array([[60,  0,  0,  0,  0,  0,  0,  1,  0,  0],\n",
              "       [ 0, 53,  0,  0,  0,  0,  1,  0,  4,  0],\n",
              "       [ 0,  9, 30,  0,  0,  0,  0,  0, 20,  0],\n",
              "       [ 0,  0,  0, 42,  0,  3,  0,  6,  7,  0],\n",
              "       [ 1,  0,  0,  0, 64,  1,  3,  6,  1,  0],\n",
              "       [ 0,  0,  0,  1,  0, 55,  0,  2,  2,  0],\n",
              "       [ 0,  1,  0,  0,  0,  0, 58,  0,  0,  0],\n",
              "       [ 0,  0,  0,  0,  0,  0,  0, 79,  0,  0],\n",
              "       [ 0,  2,  0,  1,  0,  2,  0,  3, 41,  0],\n",
              "       [ 1,  3,  0, 10,  0,  2,  0,  6,  7, 41]])"
            ]
          },
          "metadata": {},
          "execution_count": 32
        }
      ]
    }
  ]
}