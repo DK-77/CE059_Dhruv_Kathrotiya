{
  "nbformat": 4,
  "nbformat_minor": 0,
  "metadata": {
    "colab": {
      "name": "CE059_Lab_11_1_SVMwithPCA.ipynb",
      "provenance": [],
      "include_colab_link": true
    },
    "kernelspec": {
      "name": "python3",
      "display_name": "Python 3"
    },
    "language_info": {
      "name": "python"
    }
  },
  "cells": [
    {
      "cell_type": "markdown",
      "metadata": {
        "id": "view-in-github",
        "colab_type": "text"
      },
      "source": [
        "<a href=\"https://colab.research.google.com/github/DK-77/CE059_Dhruv_Kathrotiya/blob/main/Lab11/CE059_Lab_11_1_SVMwithPCA.ipynb\" target=\"_parent\"><img src=\"https://colab.research.google.com/assets/colab-badge.svg\" alt=\"Open In Colab\"/></a>"
      ]
    },
    {
      "cell_type": "markdown",
      "metadata": {
        "id": "Z1qjR9DKxjr3"
      },
      "source": [
        "## Perform SVM with PCA operation on Breast Cancer Dataset and Iris Dataset."
      ]
    },
    {
      "cell_type": "markdown",
      "metadata": {
        "id": "8CtqcyiuxuMH"
      },
      "source": [
        "#With Breast Cancer Dataset"
      ]
    },
    {
      "cell_type": "code",
      "metadata": {
        "colab": {
          "base_uri": "https://localhost:8080/"
        },
        "id": "Au62gep9v1Ta",
        "outputId": "ea9cc6ac-3813-48a6-8c48-04f1dea92e75"
      },
      "source": [
        "from sklearn import datasets\n",
        "breast_cancer = datasets.load_breast_cancer()\n",
        "breast_data = breast_cancer.data\n",
        "breast_labels = breast_cancer.target\n",
        "\n",
        "print(breast_data.shape)\n",
        "print(breast_labels.shape)"
      ],
      "execution_count": 1,
      "outputs": [
        {
          "output_type": "stream",
          "name": "stdout",
          "text": [
            "(569, 30)\n",
            "(569,)\n"
          ]
        }
      ]
    },
    {
      "cell_type": "code",
      "metadata": {
        "colab": {
          "base_uri": "https://localhost:8080/"
        },
        "id": "iGnYeJzNv-iR",
        "outputId": "1ce444bb-610b-490f-b086-c713f25d8942"
      },
      "source": [
        "import numpy as np\n",
        "labels = np.reshape(breast_labels,(569,1))\n",
        "final_breast_data = np.concatenate([breast_data,labels],axis=1)\n",
        "final_breast_data.shape"
      ],
      "execution_count": 2,
      "outputs": [
        {
          "output_type": "execute_result",
          "data": {
            "text/plain": [
              "(569, 31)"
            ]
          },
          "metadata": {},
          "execution_count": 2
        }
      ]
    },
    {
      "cell_type": "code",
      "metadata": {
        "colab": {
          "base_uri": "https://localhost:8080/"
        },
        "id": "Du06pXG5wEnf",
        "outputId": "9e6e3fe0-630d-4fe9-b0eb-48a9c60369dc"
      },
      "source": [
        "import pandas as pd\n",
        "breast_dataset = pd.DataFrame(final_breast_data)\n",
        "features = breast_cancer.feature_names\n",
        "features\n",
        "\n",
        "final_breast_data[0:5]"
      ],
      "execution_count": 3,
      "outputs": [
        {
          "output_type": "execute_result",
          "data": {
            "text/plain": [
              "array([[1.799e+01, 1.038e+01, 1.228e+02, 1.001e+03, 1.184e-01, 2.776e-01,\n",
              "        3.001e-01, 1.471e-01, 2.419e-01, 7.871e-02, 1.095e+00, 9.053e-01,\n",
              "        8.589e+00, 1.534e+02, 6.399e-03, 4.904e-02, 5.373e-02, 1.587e-02,\n",
              "        3.003e-02, 6.193e-03, 2.538e+01, 1.733e+01, 1.846e+02, 2.019e+03,\n",
              "        1.622e-01, 6.656e-01, 7.119e-01, 2.654e-01, 4.601e-01, 1.189e-01,\n",
              "        0.000e+00],\n",
              "       [2.057e+01, 1.777e+01, 1.329e+02, 1.326e+03, 8.474e-02, 7.864e-02,\n",
              "        8.690e-02, 7.017e-02, 1.812e-01, 5.667e-02, 5.435e-01, 7.339e-01,\n",
              "        3.398e+00, 7.408e+01, 5.225e-03, 1.308e-02, 1.860e-02, 1.340e-02,\n",
              "        1.389e-02, 3.532e-03, 2.499e+01, 2.341e+01, 1.588e+02, 1.956e+03,\n",
              "        1.238e-01, 1.866e-01, 2.416e-01, 1.860e-01, 2.750e-01, 8.902e-02,\n",
              "        0.000e+00],\n",
              "       [1.969e+01, 2.125e+01, 1.300e+02, 1.203e+03, 1.096e-01, 1.599e-01,\n",
              "        1.974e-01, 1.279e-01, 2.069e-01, 5.999e-02, 7.456e-01, 7.869e-01,\n",
              "        4.585e+00, 9.403e+01, 6.150e-03, 4.006e-02, 3.832e-02, 2.058e-02,\n",
              "        2.250e-02, 4.571e-03, 2.357e+01, 2.553e+01, 1.525e+02, 1.709e+03,\n",
              "        1.444e-01, 4.245e-01, 4.504e-01, 2.430e-01, 3.613e-01, 8.758e-02,\n",
              "        0.000e+00],\n",
              "       [1.142e+01, 2.038e+01, 7.758e+01, 3.861e+02, 1.425e-01, 2.839e-01,\n",
              "        2.414e-01, 1.052e-01, 2.597e-01, 9.744e-02, 4.956e-01, 1.156e+00,\n",
              "        3.445e+00, 2.723e+01, 9.110e-03, 7.458e-02, 5.661e-02, 1.867e-02,\n",
              "        5.963e-02, 9.208e-03, 1.491e+01, 2.650e+01, 9.887e+01, 5.677e+02,\n",
              "        2.098e-01, 8.663e-01, 6.869e-01, 2.575e-01, 6.638e-01, 1.730e-01,\n",
              "        0.000e+00],\n",
              "       [2.029e+01, 1.434e+01, 1.351e+02, 1.297e+03, 1.003e-01, 1.328e-01,\n",
              "        1.980e-01, 1.043e-01, 1.809e-01, 5.883e-02, 7.572e-01, 7.813e-01,\n",
              "        5.438e+00, 9.444e+01, 1.149e-02, 2.461e-02, 5.688e-02, 1.885e-02,\n",
              "        1.756e-02, 5.115e-03, 2.254e+01, 1.667e+01, 1.522e+02, 1.575e+03,\n",
              "        1.374e-01, 2.050e-01, 4.000e-01, 1.625e-01, 2.364e-01, 7.678e-02,\n",
              "        0.000e+00]])"
            ]
          },
          "metadata": {},
          "execution_count": 3
        }
      ]
    },
    {
      "cell_type": "code",
      "metadata": {
        "colab": {
          "base_uri": "https://localhost:8080/"
        },
        "id": "-dB6QVUOwIhH",
        "outputId": "1ce384ae-dc53-4c6f-fb8a-c3b1aab5e7bd"
      },
      "source": [
        "from sklearn.model_selection import train_test_split\n",
        "X_train, X_test, y_train, y_test = train_test_split(breast_data,\n",
        "        breast_labels, random_state=11)\n",
        "\n",
        "print(X_train.shape, X_test.shape)"
      ],
      "execution_count": 4,
      "outputs": [
        {
          "output_type": "stream",
          "name": "stdout",
          "text": [
            "(426, 30) (143, 30)\n"
          ]
        }
      ]
    },
    {
      "cell_type": "markdown",
      "metadata": {
        "id": "ZdXz1Yl_wOjR"
      },
      "source": [
        "Preprocessing: Principal Component Analysis\n",
        "\n",
        "We can use PCA to reduce these features to a manageable size, while maintaining most of the information\n",
        "in the dataset."
      ]
    },
    {
      "cell_type": "code",
      "metadata": {
        "colab": {
          "base_uri": "https://localhost:8080/"
        },
        "id": "LUHLc4m9wLYW",
        "outputId": "8011c964-f937-4b76-c120-c8e453121d89"
      },
      "source": [
        "from sklearn import decomposition\n",
        "pca = decomposition.PCA(n_components=20, whiten=True)\n",
        "pca.fit(X_train)"
      ],
      "execution_count": 5,
      "outputs": [
        {
          "output_type": "execute_result",
          "data": {
            "text/plain": [
              "PCA(copy=True, iterated_power='auto', n_components=20, random_state=None,\n",
              "    svd_solver='auto', tol=0.0, whiten=True)"
            ]
          },
          "metadata": {},
          "execution_count": 5
        }
      ]
    },
    {
      "cell_type": "markdown",
      "metadata": {
        "id": "eGK9uw0bwdCO"
      },
      "source": [
        "The principal components measure deviations about this mean along\n",
        "orthogonal axes."
      ]
    },
    {
      "cell_type": "code",
      "metadata": {
        "colab": {
          "base_uri": "https://localhost:8080/"
        },
        "id": "x6AbWxt7wYtP",
        "outputId": "3c2f80e5-a7ee-449a-b5df-7842dce7e375"
      },
      "source": [
        "print(pca.components_.shape)"
      ],
      "execution_count": 6,
      "outputs": [
        {
          "output_type": "stream",
          "name": "stdout",
          "text": [
            "(20, 30)\n"
          ]
        }
      ]
    },
    {
      "cell_type": "markdown",
      "metadata": {
        "id": "4MyuluK8wiVe"
      },
      "source": [
        "With this projection computed, we can now project our original training\n",
        "and test data onto the PCA basis:"
      ]
    },
    {
      "cell_type": "code",
      "metadata": {
        "colab": {
          "base_uri": "https://localhost:8080/"
        },
        "id": "s10qrkPLwjLS",
        "outputId": "525476d0-e00c-4c5a-d09e-e236988e936a"
      },
      "source": [
        "X_train_pca = pca.transform(X_train)\n",
        "X_test_pca = pca.transform(X_test)\n",
        "\n",
        "print(X_train_pca.shape)\n",
        "print(X_test_pca.shape)"
      ],
      "execution_count": 7,
      "outputs": [
        {
          "output_type": "stream",
          "name": "stdout",
          "text": [
            "(426, 20)\n",
            "(143, 20)\n"
          ]
        }
      ]
    },
    {
      "cell_type": "markdown",
      "metadata": {
        "id": "a6Tde9Y0wyTW"
      },
      "source": [
        "Doing the Learning: Support Vector Machines\n",
        "\n",
        "Now we'll perform support-vector-machine classification on this reduced\n",
        "dataset:"
      ]
    },
    {
      "cell_type": "code",
      "metadata": {
        "colab": {
          "base_uri": "https://localhost:8080/"
        },
        "id": "QOndHD3LwzJ-",
        "outputId": "17a64558-8d8c-4743-e3ee-91fc807a036f"
      },
      "source": [
        "from sklearn import svm\n",
        "clf = svm.SVC(C=5., gamma=0.001)\n",
        "clf.fit(X_train_pca, y_train)"
      ],
      "execution_count": 8,
      "outputs": [
        {
          "output_type": "execute_result",
          "data": {
            "text/plain": [
              "SVC(C=5.0, break_ties=False, cache_size=200, class_weight=None, coef0=0.0,\n",
              "    decision_function_shape='ovr', degree=3, gamma=0.001, kernel='rbf',\n",
              "    max_iter=-1, probability=False, random_state=None, shrinking=True,\n",
              "    tol=0.001, verbose=False)"
            ]
          },
          "metadata": {},
          "execution_count": 8
        }
      ]
    },
    {
      "cell_type": "code",
      "metadata": {
        "colab": {
          "base_uri": "https://localhost:8080/"
        },
        "id": "WeU9G7rPw2l-",
        "outputId": "952c5868-4b24-4fe9-bfab-9b0928773617"
      },
      "source": [
        "from sklearn import metrics\n",
        "y_pred = clf.predict(X_test_pca)\n",
        "print(metrics.classification_report(y_test, y_pred))"
      ],
      "execution_count": 9,
      "outputs": [
        {
          "output_type": "stream",
          "name": "stdout",
          "text": [
            "              precision    recall  f1-score   support\n",
            "\n",
            "           0       1.00      0.86      0.92        50\n",
            "           1       0.93      1.00      0.96        93\n",
            "\n",
            "    accuracy                           0.95       143\n",
            "   macro avg       0.97      0.93      0.94       143\n",
            "weighted avg       0.95      0.95      0.95       143\n",
            "\n"
          ]
        }
      ]
    },
    {
      "cell_type": "markdown",
      "metadata": {
        "id": "fRUR2wtww53o"
      },
      "source": [
        "Another interesting metric is the *confusion matrix*, which indicates\n",
        "how often any two items are mixed-up. The confusion matrix of a perfect\n",
        "classifier would only have nonzero entries on the diagonal, with zeros\n",
        "on the off-diagonal:"
      ]
    },
    {
      "cell_type": "code",
      "metadata": {
        "colab": {
          "base_uri": "https://localhost:8080/"
        },
        "id": "dXJBL13Cw6uG",
        "outputId": "09c5d8cf-3799-4af1-ea11-f9ff5f86ea06"
      },
      "source": [
        "print(metrics.confusion_matrix(y_test, y_pred))"
      ],
      "execution_count": 10,
      "outputs": [
        {
          "output_type": "stream",
          "name": "stdout",
          "text": [
            "[[43  7]\n",
            " [ 0 93]]\n"
          ]
        }
      ]
    },
    {
      "cell_type": "markdown",
      "metadata": {
        "id": "1L9klID0w-l-"
      },
      "source": [
        "#With Iris Dataset"
      ]
    },
    {
      "cell_type": "code",
      "metadata": {
        "colab": {
          "base_uri": "https://localhost:8080/"
        },
        "id": "6Zs1zQCNw_Wn",
        "outputId": "d97ad332-254e-413d-f2dc-e589ba94ac9f"
      },
      "source": [
        "iris = datasets.load_iris()\n",
        "iris_data = iris.data\n",
        "iris_labels = iris.target\n",
        "\n",
        "print(iris_data.shape)\n",
        "print(iris_labels.shape)\n",
        "\n",
        "features = iris.feature_names\n",
        "features"
      ],
      "execution_count": 11,
      "outputs": [
        {
          "output_type": "stream",
          "name": "stdout",
          "text": [
            "(150, 4)\n",
            "(150,)\n"
          ]
        },
        {
          "output_type": "execute_result",
          "data": {
            "text/plain": [
              "['sepal length (cm)',\n",
              " 'sepal width (cm)',\n",
              " 'petal length (cm)',\n",
              " 'petal width (cm)']"
            ]
          },
          "metadata": {},
          "execution_count": 11
        }
      ]
    },
    {
      "cell_type": "code",
      "metadata": {
        "colab": {
          "base_uri": "https://localhost:8080/"
        },
        "id": "0zck-lemxFyl",
        "outputId": "7233c09c-4975-47a1-89b3-1accece4bed5"
      },
      "source": [
        "from sklearn.model_selection import train_test_split\n",
        "X_train, X_test, y_train, y_test = train_test_split(iris_data,\n",
        "        iris_labels, random_state=11)\n",
        "\n",
        "print(X_train.shape, X_test.shape)"
      ],
      "execution_count": 12,
      "outputs": [
        {
          "output_type": "stream",
          "name": "stdout",
          "text": [
            "(112, 4) (38, 4)\n"
          ]
        }
      ]
    },
    {
      "cell_type": "markdown",
      "metadata": {
        "id": "7AQBUyqWxIel"
      },
      "source": [
        "Preprocessing: Principal Component Analysis\n",
        "We can use PCA to reduce these features to a manageable size, while maintaining most of the information in the dataset."
      ]
    },
    {
      "cell_type": "code",
      "metadata": {
        "colab": {
          "base_uri": "https://localhost:8080/"
        },
        "id": "iwrkM_a7xMJt",
        "outputId": "15707054-ed74-429f-e631-0b57a0d6077f"
      },
      "source": [
        "from sklearn import decomposition\n",
        "pca = decomposition.PCA(n_components=2, whiten=True)\n",
        "pca.fit(X_train)\n",
        "\n",
        "print(pca.components_.shape)"
      ],
      "execution_count": 13,
      "outputs": [
        {
          "output_type": "stream",
          "name": "stdout",
          "text": [
            "(2, 4)\n"
          ]
        }
      ]
    },
    {
      "cell_type": "code",
      "metadata": {
        "colab": {
          "base_uri": "https://localhost:8080/"
        },
        "id": "O5tPt_VQxNCm",
        "outputId": "65cf1ea9-79c4-4605-8fe2-da7f40424442"
      },
      "source": [
        "X_train_pca = pca.transform(X_train)\n",
        "X_test_pca = pca.transform(X_test)\n",
        "\n",
        "print(X_train_pca.shape)\n",
        "print(X_test_pca.shape)"
      ],
      "execution_count": 14,
      "outputs": [
        {
          "output_type": "stream",
          "name": "stdout",
          "text": [
            "(112, 2)\n",
            "(38, 2)\n"
          ]
        }
      ]
    },
    {
      "cell_type": "code",
      "metadata": {
        "colab": {
          "base_uri": "https://localhost:8080/"
        },
        "id": "wyxaTvxAxSNl",
        "outputId": "505298ca-90e1-4636-9e52-4247b13ed361"
      },
      "source": [
        "from sklearn import svm\n",
        "clf = svm.SVC(C=5., gamma=0.001)\n",
        "clf.fit(X_train_pca, y_train)"
      ],
      "execution_count": 15,
      "outputs": [
        {
          "output_type": "execute_result",
          "data": {
            "text/plain": [
              "SVC(C=5.0, break_ties=False, cache_size=200, class_weight=None, coef0=0.0,\n",
              "    decision_function_shape='ovr', degree=3, gamma=0.001, kernel='rbf',\n",
              "    max_iter=-1, probability=False, random_state=None, shrinking=True,\n",
              "    tol=0.001, verbose=False)"
            ]
          },
          "metadata": {},
          "execution_count": 15
        }
      ]
    },
    {
      "cell_type": "code",
      "metadata": {
        "colab": {
          "base_uri": "https://localhost:8080/"
        },
        "id": "l-6aYr1ZxVV_",
        "outputId": "d250ed28-a0c9-4147-a0b4-9538f87f019a"
      },
      "source": [
        "from sklearn import metrics\n",
        "y_pred = clf.predict(X_test_pca)\n",
        "\n",
        "print(metrics.classification_report(y_test, y_pred))\n",
        "print(metrics.confusion_matrix(y_test, y_pred))"
      ],
      "execution_count": 16,
      "outputs": [
        {
          "output_type": "stream",
          "name": "stdout",
          "text": [
            "              precision    recall  f1-score   support\n",
            "\n",
            "           0       1.00      0.92      0.96        12\n",
            "           1       0.46      1.00      0.63        11\n",
            "           2       1.00      0.20      0.33        15\n",
            "\n",
            "    accuracy                           0.66        38\n",
            "   macro avg       0.82      0.71      0.64        38\n",
            "weighted avg       0.84      0.66      0.62        38\n",
            "\n",
            "[[11  1  0]\n",
            " [ 0 11  0]\n",
            " [ 0 12  3]]\n"
          ]
        }
      ]
    },
    {
      "cell_type": "code",
      "metadata": {
        "id": "iI7KklfQyJKi"
      },
      "source": [
        ""
      ],
      "execution_count": null,
      "outputs": []
    }
  ]
}