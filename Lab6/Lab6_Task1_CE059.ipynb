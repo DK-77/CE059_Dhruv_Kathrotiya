{
  "nbformat": 4,
  "nbformat_minor": 0,
  "metadata": {
    "kernelspec": {
      "display_name": "Python 3",
      "language": "python",
      "name": "python3"
    },
    "language_info": {
      "name": "python",
      "version": "3.6.6",
      "mimetype": "text/x-python",
      "codemirror_mode": {
        "name": "ipython",
        "version": 3
      },
      "pygments_lexer": "ipython3",
      "nbconvert_exporter": "python",
      "file_extension": ".py"
    },
    "colab": {
      "name": "Lab6_Task1_CE059.ipynb",
      "provenance": [],
      "include_colab_link": true
    }
  },
  "cells": [
    {
      "cell_type": "markdown",
      "metadata": {
        "id": "view-in-github",
        "colab_type": "text"
      },
      "source": [
        "<a href=\"https://colab.research.google.com/github/DK-77/CE059_Dhruv_Kathrotiya/blob/main/Lab6/Lab6_Task1_CE059.ipynb\" target=\"_parent\"><img src=\"https://colab.research.google.com/assets/colab-badge.svg\" alt=\"Open In Colab\"/></a>"
      ]
    },
    {
      "cell_type": "code",
      "metadata": {
        "_uuid": "8f2839f25d086af736a60e9eeb907d3b93b6e0e5",
        "_cell_guid": "b1076dfc-b9ad-4769-8c92-a6c4dae69d19",
        "trusted": true,
        "id": "hfV503AtcBDp"
      },
      "source": [
        "#Importing libraries\n",
        "import numpy as np \n",
        "import pandas as pd \n",
        "import io\n",
        "import matplotlib.pyplot as plt"
      ],
      "execution_count": 38,
      "outputs": []
    },
    {
      "cell_type": "code",
      "metadata": {
        "_cell_guid": "79c7e3d0-c299-4dcb-8224-4455121ee9b0",
        "_uuid": "d629ff2d2480ee46fbb7e2d37f6b5fab8052498a",
        "trusted": true,
        "id": "Y4rK9ffYcBEP",
        "colab": {
          "base_uri": "https://localhost:8080/",
          "height": 220
        },
        "outputId": "0f874054-b455-44b5-cf4a-a45031bd8d30"
      },
      "source": [
        "# reading the csv file, del 2 columns from the file, checking first few rows of the file\n",
        "from google.colab import drive\n",
        "drive.mount('/content/drive')\n",
        "\n",
        "data = pd.read_csv('/content/drive/MyDrive/ML/Lab6/BuyComputer.csv')\n",
        "\n",
        "data.drop(columns=['User ID',],axis=1,inplace=True)\n",
        "data.head()"
      ],
      "execution_count": 39,
      "outputs": [
        {
          "output_type": "stream",
          "name": "stdout",
          "text": [
            "Drive already mounted at /content/drive; to attempt to forcibly remount, call drive.mount(\"/content/drive\", force_remount=True).\n"
          ]
        },
        {
          "output_type": "execute_result",
          "data": {
            "text/html": [
              "<div>\n",
              "<style scoped>\n",
              "    .dataframe tbody tr th:only-of-type {\n",
              "        vertical-align: middle;\n",
              "    }\n",
              "\n",
              "    .dataframe tbody tr th {\n",
              "        vertical-align: top;\n",
              "    }\n",
              "\n",
              "    .dataframe thead th {\n",
              "        text-align: right;\n",
              "    }\n",
              "</style>\n",
              "<table border=\"1\" class=\"dataframe\">\n",
              "  <thead>\n",
              "    <tr style=\"text-align: right;\">\n",
              "      <th></th>\n",
              "      <th>Age</th>\n",
              "      <th>EstimatedSalary</th>\n",
              "      <th>Purchased</th>\n",
              "    </tr>\n",
              "  </thead>\n",
              "  <tbody>\n",
              "    <tr>\n",
              "      <th>0</th>\n",
              "      <td>19</td>\n",
              "      <td>19000</td>\n",
              "      <td>0</td>\n",
              "    </tr>\n",
              "    <tr>\n",
              "      <th>1</th>\n",
              "      <td>35</td>\n",
              "      <td>20000</td>\n",
              "      <td>0</td>\n",
              "    </tr>\n",
              "    <tr>\n",
              "      <th>2</th>\n",
              "      <td>26</td>\n",
              "      <td>43000</td>\n",
              "      <td>0</td>\n",
              "    </tr>\n",
              "    <tr>\n",
              "      <th>3</th>\n",
              "      <td>27</td>\n",
              "      <td>57000</td>\n",
              "      <td>0</td>\n",
              "    </tr>\n",
              "    <tr>\n",
              "      <th>4</th>\n",
              "      <td>19</td>\n",
              "      <td>76000</td>\n",
              "      <td>0</td>\n",
              "    </tr>\n",
              "  </tbody>\n",
              "</table>\n",
              "</div>"
            ],
            "text/plain": [
              "   Age  EstimatedSalary  Purchased\n",
              "0   19            19000          0\n",
              "1   35            20000          0\n",
              "2   26            43000          0\n",
              "3   27            57000          0\n",
              "4   19            76000          0"
            ]
          },
          "metadata": {},
          "execution_count": 39
        }
      ]
    },
    {
      "cell_type": "code",
      "metadata": {
        "trusted": true,
        "_uuid": "4cb45e28344e7e245ab398e9f4f5272ef21d2129",
        "id": "jwuPgU6_cBE8",
        "colab": {
          "base_uri": "https://localhost:8080/"
        },
        "outputId": "b323cd90-8ac9-4004-bd9e-005eb06d98a8"
      },
      "source": [
        "#Declare label as last column in the source file\n",
        "label = data.iloc[:,-1].values\n",
        "print(label)"
      ],
      "execution_count": 40,
      "outputs": [
        {
          "output_type": "stream",
          "name": "stdout",
          "text": [
            "[0 0 0 0 0 0 0 1 0 0 0 0 0 0 0 0 1 1 1 1 1 1 1 1 1 1 1 1 0 0 0 1 0 0 0 0 0\n",
            " 0 0 0 0 0 0 0 0 0 0 0 1 0 0 0 0 0 0 0 0 0 0 0 0 0 0 1 0 0 0 0 0 0 0 0 0 0\n",
            " 0 1 0 0 0 0 0 0 0 0 0 1 0 0 0 0 0 0 0 0 0 0 0 1 0 0 0 0 0 1 0 0 0 0 0 0 0\n",
            " 0 0 0 0 0 0 0 0 0 0 0 0 0 0 0 0 0 0 0 0 0 0 0 0 0 0 1 0 0 0 0 0 0 0 0 1 0\n",
            " 0 0 0 0 0 0 0 0 0 0 0 1 1 0 0 0 0 0 0 0 1 0 0 0 0 0 0 0 0 0 0 0 0 0 1 0 0\n",
            " 0 0 0 0 0 0 0 0 0 0 0 0 0 0 0 0 0 1 0 1 0 1 0 1 0 1 1 0 0 0 1 0 0 0 1 0 1\n",
            " 1 1 0 0 1 1 0 1 1 0 1 1 0 1 0 0 0 1 1 0 1 1 0 1 0 1 0 1 0 0 1 1 0 1 0 0 1\n",
            " 1 0 1 1 0 1 1 0 0 1 0 0 1 1 1 1 1 0 1 1 1 1 0 1 1 0 1 0 1 0 1 1 1 1 0 0 0\n",
            " 1 1 0 1 1 1 1 1 0 0 0 1 1 0 0 1 0 1 0 1 1 0 1 0 1 1 0 1 1 0 0 0 1 1 0 1 0\n",
            " 0 1 0 1 0 0 1 1 0 0 1 1 0 1 1 0 0 1 0 1 0 1 1 1 0 1 0 1 1 1 0 1 1 1 1 0 1\n",
            " 1 1 0 1 0 1 0 0 1 1 0 1 1 1 1 1 1 0 1 1 1 1 1 1 0 1 1 1 0 1]\n"
          ]
        }
      ]
    },
    {
      "cell_type": "code",
      "metadata": {
        "trusted": true,
        "_uuid": "2e7a145fa49435ad9578ec2827f76a70cc99f2e1",
        "id": "2lhBrOp8cBFX"
      },
      "source": [
        "#Declaring X as all columns excluding last\n",
        "X = data.iloc[:,:-1].values\n"
      ],
      "execution_count": 41,
      "outputs": []
    },
    {
      "cell_type": "code",
      "metadata": {
        "trusted": true,
        "_uuid": "dffb1f3e19e19964995ac827bf55108b5815ff67",
        "id": "t8nwbTn6cBFp"
      },
      "source": [
        "# Splitting data\n",
        "from sklearn.model_selection import train_test_split\n",
        "X_train, X_test, y_train, y_test = train_test_split(X, label, test_size=0.2, random_state=59)"
      ],
      "execution_count": 42,
      "outputs": []
    },
    {
      "cell_type": "code",
      "metadata": {
        "trusted": true,
        "_uuid": "7d4ed14782e114ae3282f20d3754121398e6d232",
        "id": "U4bUiVVFcBGD"
      },
      "source": [
        "# Sacaling data\n",
        "from sklearn.preprocessing import StandardScaler\n",
        "sc = StandardScaler()\n",
        "X_train = sc.fit_transform(X_train)\n",
        "X_test = sc.transform(X_test)"
      ],
      "execution_count": 43,
      "outputs": []
    },
    {
      "cell_type": "code",
      "metadata": {
        "trusted": true,
        "_uuid": "2ff7415e3e0e0673d59051cfe6154c63d3312a32",
        "id": "W5yGgzqbcBGc",
        "colab": {
          "base_uri": "https://localhost:8080/"
        },
        "outputId": "646646d7-23ef-4ac6-e0f1-88fbecc97ed8"
      },
      "source": [
        "#Variabes to calculate sigmoid function\n",
        "y_pred = []\n",
        "len_x = len(X_train[0])\n",
        "w = []\n",
        "b = 0.2\n",
        "print(len_x)"
      ],
      "execution_count": 44,
      "outputs": [
        {
          "output_type": "stream",
          "name": "stdout",
          "text": [
            "2\n"
          ]
        }
      ]
    },
    {
      "cell_type": "code",
      "metadata": {
        "trusted": true,
        "_uuid": "a228174207f4631be4f26a0cc05e379f3f58aa56",
        "id": "ZbqwTM0bcBGr",
        "colab": {
          "base_uri": "https://localhost:8080/"
        },
        "outputId": "b8fa3d39-57ed-408a-ffcd-16929ad11683"
      },
      "source": [
        "entries = len(X_train[:,0])\n",
        "entries"
      ],
      "execution_count": 45,
      "outputs": [
        {
          "output_type": "execute_result",
          "data": {
            "text/plain": [
              "320"
            ]
          },
          "metadata": {},
          "execution_count": 45
        }
      ]
    },
    {
      "cell_type": "code",
      "metadata": {
        "trusted": true,
        "_uuid": "5d4d6e47ee65c9c7404e60fcf8f05c11708546b3",
        "id": "vEV7Nn73cBG7",
        "colab": {
          "base_uri": "https://localhost:8080/"
        },
        "outputId": "c3a1806f-4094-4f76-8f17-23c25f774818"
      },
      "source": [
        "for weights in range(len_x):\n",
        "    w.append(0)\n",
        "w"
      ],
      "execution_count": 46,
      "outputs": [
        {
          "output_type": "execute_result",
          "data": {
            "text/plain": [
              "[0, 0]"
            ]
          },
          "metadata": {},
          "execution_count": 46
        }
      ]
    },
    {
      "cell_type": "code",
      "metadata": {
        "trusted": true,
        "_uuid": "18dbd2196d72527a82d30ab88ed2aa8d10bd01ce",
        "id": "_fAtpylNcBHM"
      },
      "source": [
        "# Sigmoid function\n",
        "def sigmoid(z):\n",
        "  return 1 / (1 + np.exp(-z))"
      ],
      "execution_count": 47,
      "outputs": []
    },
    {
      "cell_type": "code",
      "metadata": {
        "trusted": true,
        "_uuid": "daa0f87fdbf98591cb9f51b8dc7157dc399ca827",
        "id": "kfchkScTcBHd"
      },
      "source": [
        "def predict(x,y):\n",
        "    lin_reg = np.dot(x,w) + b\n",
        "    y_prob = sigmoid(lin_reg)\n",
        "    y_pred = [1 if i > 0.5 else 0 for i in y_prob]\n",
        "    return y_pred"
      ],
      "execution_count": 48,
      "outputs": []
    },
    {
      "cell_type": "code",
      "metadata": {
        "trusted": true,
        "_uuid": "4126f842d072ccd40019cc283b767a014e2ee074",
        "id": "K2ryTgglcBHt"
      },
      "source": [
        "import math\n",
        "#Loss function\n",
        "def loss_func(y,a):\n",
        "    J=0;\n",
        "\n",
        "    for i in range(len(y)):\n",
        "      if (y[i]==0):\n",
        "        J += (1-y[i])*math.log(1-a[i])\n",
        "      else :\n",
        "        J += (y[i])*math.log(a[i])\n",
        "\n",
        "    J = J/(len(y))\n",
        "    J = J -(2*J)\n",
        "    return J         "
      ],
      "execution_count": 73,
      "outputs": []
    },
    {
      "cell_type": "code",
      "metadata": {
        "trusted": true,
        "_uuid": "fc0ceb65c69f4ee0c3f28e050744229dc90c621b",
        "id": "1KW3eDpmcBIA"
      },
      "source": [
        "dw = []\n",
        "db = 0\n",
        "J = 0\n",
        "alpha = 0.1\n",
        "loss = []\n",
        "for x in range(len_x):\n",
        "    dw.append(0)"
      ],
      "execution_count": 75,
      "outputs": []
    },
    {
      "cell_type": "code",
      "metadata": {
        "trusted": true,
        "_uuid": "e4be38e9b500ae0c5a7134296a3055675c4fb2d8",
        "id": "ipqdFLP3cBIO"
      },
      "source": [
        "#adjusting weights and biases\n",
        "def gradient_descent(x_train,y_train,w,b,learning_rate,iter):\n",
        "  n = len(x_train)\n",
        "  for i in range(iter):\n",
        "    lin_reg = np.dot(x_train,w) + b\n",
        "    y_prob = sigmoid(lin_reg)\n",
        "\n",
        "    loss.append(loss_func(y_train,y_prob))\n",
        "    dw = (1/n) * np.dot(x_train.T,y_prob-y_train)\n",
        "    db = (1/n) * np.sum(y_prob-y_train)\n",
        "\n",
        "    w = w - learning_rate*dw\n",
        "    b = b - learning_rate*db\n",
        "  return (w,b,loss)\n",
        "\n"
      ],
      "execution_count": 78,
      "outputs": []
    },
    {
      "cell_type": "code",
      "metadata": {
        "id": "HwPsnelBRq_F"
      },
      "source": [
        "#Repeating the process 3000 times\n",
        "(w,b,loss) = gradient_descent(X_train,y_train,w,b,alpha,3000)"
      ],
      "execution_count": 79,
      "outputs": []
    },
    {
      "cell_type": "code",
      "metadata": {
        "trusted": true,
        "_uuid": "5479ccb6073ed1ea310ef7de01b2935fc3ec400e",
        "id": "7Q585AdrcBIs",
        "colab": {
          "base_uri": "https://localhost:8080/"
        },
        "outputId": "98447b64-da68-49ee-c766-3e4394b94bec"
      },
      "source": [
        "#Print weight\n",
        "print(\"Adjusted Weights\\n\",w)"
      ],
      "execution_count": 80,
      "outputs": [
        {
          "output_type": "stream",
          "name": "stdout",
          "text": [
            "Adjusted Weights\n",
            " [2.45709891 1.32576743]\n"
          ]
        }
      ]
    },
    {
      "cell_type": "code",
      "metadata": {
        "trusted": true,
        "_uuid": "a939c247b8a092f74c9843975612daa85c423621",
        "id": "rEiF-bNHcBJB",
        "colab": {
          "base_uri": "https://localhost:8080/"
        },
        "outputId": "f270bedf-1fa1-40fe-8d4f-b432118eb5fd"
      },
      "source": [
        "#print bias\n",
        "print(\"Adjusted bias\\n\",b)"
      ],
      "execution_count": 81,
      "outputs": [
        {
          "output_type": "stream",
          "name": "stdout",
          "text": [
            "Adjusted bias\n",
            " -1.062723836267714\n"
          ]
        }
      ]
    },
    {
      "cell_type": "code",
      "metadata": {
        "trusted": true,
        "_uuid": "b7ae24169a21c7ac8ea0787f4a38a0de3e07a6b5",
        "id": "MPt5nUcpcBJR"
      },
      "source": [
        "#predicting the label\n",
        "final_preds = predict(X_test,y_test)"
      ],
      "execution_count": 82,
      "outputs": []
    },
    {
      "cell_type": "code",
      "metadata": {
        "trusted": true,
        "_uuid": "967ad1b72305ad792a5d50e4d8b8a07632f7b241",
        "scrolled": false,
        "id": "79HPPz7jcBJg",
        "colab": {
          "base_uri": "https://localhost:8080/"
        },
        "outputId": "bfd73a73-4549-4425-8bc8-1d206b596a33"
      },
      "source": [
        "#print actual and predicted values in a table\n",
        "print(\"predicted\\n\",final_preds)\n",
        "print(\"\\nactual\\n\",y_test)"
      ],
      "execution_count": 83,
      "outputs": [
        {
          "output_type": "stream",
          "name": "stdout",
          "text": [
            "predicted\n",
            " [0, 0, 0, 0, 0, 1, 1, 0, 0, 0, 0, 0, 0, 1, 0, 0, 1, 0, 0, 0, 0, 0, 1, 0, 1, 0, 1, 1, 0, 0, 0, 0, 0, 0, 0, 0, 0, 0, 0, 0, 1, 0, 0, 0, 1, 0, 0, 0, 1, 0, 0, 0, 1, 0, 0, 0, 1, 0, 1, 1, 0, 1, 1, 0, 1, 1, 0, 0, 0, 0, 1, 1, 0, 1, 0, 0, 0, 0, 1, 0]\n",
            "\n",
            "actual\n",
            " [0 0 0 0 0 1 1 1 0 0 0 0 0 1 0 0 1 0 1 0 0 0 0 0 0 0 1 1 0 0 0 0 0 1 0 0 0\n",
            " 0 0 0 1 0 1 0 0 0 1 0 1 0 0 0 1 0 0 0 0 1 1 1 0 1 1 0 1 0 0 0 0 0 0 1 0 1\n",
            " 0 0 0 1 1 1]\n"
          ]
        }
      ]
    },
    {
      "cell_type": "code",
      "metadata": {
        "trusted": true,
        "_uuid": "a59807150900082ab876ef0200c6c7f8f93e098c",
        "id": "sdZDj_iVcBJt",
        "colab": {
          "base_uri": "https://localhost:8080/"
        },
        "outputId": "22c51cda-90ec-47b0-f02b-1181dc771f9c"
      },
      "source": [
        "# Calculating accuracy of prediction\n",
        "from sklearn.metrics import accuracy_score\n",
        "print(\"accuracy:-\", accuracy_score(y_test,final_preds))"
      ],
      "execution_count": 84,
      "outputs": [
        {
          "output_type": "stream",
          "name": "stdout",
          "text": [
            "accuracy:- 0.825\n"
          ]
        }
      ]
    },
    {
      "cell_type": "markdown",
      "metadata": {
        "id": "x6nmajpzhAEn"
      },
      "source": [
        "#Using sklearn LogisticRegression model"
      ]
    },
    {
      "cell_type": "code",
      "metadata": {
        "trusted": true,
        "_uuid": "9aaade066015e04f20dd7eb1d37339be75ca3836",
        "_kg_hide-output": true,
        "id": "iG-BK4i9cBKH"
      },
      "source": [
        "# Fitting Logistic Regression to the Training set\n",
        "from sklearn.linear_model import LogisticRegression\n",
        "LR = LogisticRegression(random_state = 59)\n",
        "\n",
        "#Fit\n",
        "LR.fit(X_train,y_train)\n",
        "#predicting the test label with LR. Predict always takes X as input\n",
        "LR_preds = LR.predict(X_test)"
      ],
      "execution_count": 87,
      "outputs": []
    },
    {
      "cell_type": "code",
      "metadata": {
        "colab": {
          "base_uri": "https://localhost:8080/"
        },
        "id": "WjLmFPdhXAmO",
        "outputId": "afc776a1-a630-4b6f-e070-7be2814579ae"
      },
      "source": [
        "print('LR predictions\\n',LR_preds)\n",
        "print('\\nactual\\n',y_test)\n"
      ],
      "execution_count": 88,
      "outputs": [
        {
          "output_type": "stream",
          "name": "stdout",
          "text": [
            "LR predictions\n",
            " [0 0 0 0 0 1 1 0 0 0 0 0 0 1 0 0 1 0 0 0 0 0 1 0 1 0 1 1 0 0 0 0 0 0 0 0 0\n",
            " 0 0 0 1 0 0 0 1 0 0 0 1 0 0 0 1 0 0 0 1 0 1 1 0 1 1 0 0 1 0 0 0 0 1 1 0 1\n",
            " 0 0 0 0 1 0]\n",
            "\n",
            "actual\n",
            " [0 0 0 0 0 1 1 1 0 0 0 0 0 1 0 0 1 0 1 0 0 0 0 0 0 0 1 1 0 0 0 0 0 1 0 0 0\n",
            " 0 0 0 1 0 1 0 0 0 1 0 1 0 0 0 1 0 0 0 0 1 1 1 0 1 1 0 1 0 0 0 0 0 0 1 0 1\n",
            " 0 0 0 1 1 1]\n"
          ]
        }
      ]
    },
    {
      "cell_type": "code",
      "metadata": {
        "colab": {
          "base_uri": "https://localhost:8080/"
        },
        "id": "x_vOzLoXXU_l",
        "outputId": "b7c94a3d-36a1-4dda-abb0-efa575724405"
      },
      "source": [
        "#accuracy\n",
        "from sklearn.metrics import accuracy_score\n",
        "print(\"accuracy:-\", accuracy_score(y_test,LR_preds))"
      ],
      "execution_count": 89,
      "outputs": [
        {
          "output_type": "stream",
          "name": "stdout",
          "text": [
            "accuracy:- 0.8125\n"
          ]
        }
      ]
    },
    {
      "cell_type": "markdown",
      "metadata": {
        "id": "Y8sYVBu-iSW-"
      },
      "source": [
        "**Exercise:**\n",
        "\n",
        "Try logistic regression on BuyComputer dataset and set Random state=Your_RollNumber (last 3 digit of ID, incase if you don't have ID)"
      ]
    }
  ]
}